{
  "nbformat": 4,
  "nbformat_minor": 0,
  "metadata": {
    "colab": {
      "name": "Movie Recommendation MovieLens Dataset .ipynb",
      "provenance": [],
      "collapsed_sections": [],
      "authorship_tag": "ABX9TyMnlhM1+lFB+bkNzhhmmyQ6"
    },
    "kernelspec": {
      "name": "python3",
      "display_name": "Python 3"
    },
    "widgets": {
      "application/vnd.jupyter.widget-state+json": {
        "88dbbf1b744343cba20d90e777f7e5f1": {
          "model_module": "@jupyter-widgets/controls",
          "model_name": "HBoxModel",
          "state": {
            "_view_name": "HBoxView",
            "_dom_classes": [],
            "_model_name": "HBoxModel",
            "_view_module": "@jupyter-widgets/controls",
            "_model_module_version": "1.5.0",
            "_view_count": null,
            "_view_module_version": "1.5.0",
            "box_style": "",
            "layout": "IPY_MODEL_f690dfb1fa1348f88299fee6f16cc080",
            "_model_module": "@jupyter-widgets/controls",
            "children": [
              "IPY_MODEL_6b2739ce8ac34fbe90c47555d217f30a",
              "IPY_MODEL_239c8e6712d149cfaa6f0ce450a0f9c9"
            ]
          }
        },
        "f690dfb1fa1348f88299fee6f16cc080": {
          "model_module": "@jupyter-widgets/base",
          "model_name": "LayoutModel",
          "state": {
            "_view_name": "LayoutView",
            "grid_template_rows": null,
            "right": null,
            "justify_content": null,
            "_view_module": "@jupyter-widgets/base",
            "overflow": null,
            "_model_module_version": "1.2.0",
            "_view_count": null,
            "flex_flow": null,
            "width": null,
            "min_width": null,
            "border": null,
            "align_items": null,
            "bottom": null,
            "_model_module": "@jupyter-widgets/base",
            "top": null,
            "grid_column": null,
            "overflow_y": null,
            "overflow_x": null,
            "grid_auto_flow": null,
            "grid_area": null,
            "grid_template_columns": null,
            "flex": null,
            "_model_name": "LayoutModel",
            "justify_items": null,
            "grid_row": null,
            "max_height": null,
            "align_content": null,
            "visibility": null,
            "align_self": null,
            "height": null,
            "min_height": null,
            "padding": null,
            "grid_auto_rows": null,
            "grid_gap": null,
            "max_width": null,
            "order": null,
            "_view_module_version": "1.2.0",
            "grid_template_areas": null,
            "object_position": null,
            "object_fit": null,
            "grid_auto_columns": null,
            "margin": null,
            "display": null,
            "left": null
          }
        },
        "6b2739ce8ac34fbe90c47555d217f30a": {
          "model_module": "@jupyter-widgets/controls",
          "model_name": "FloatProgressModel",
          "state": {
            "_view_name": "ProgressView",
            "style": "IPY_MODEL_01a7d8fb972a446da32978918ca9caff",
            "_dom_classes": [],
            "description": "100%",
            "_model_name": "FloatProgressModel",
            "bar_style": "success",
            "max": 50,
            "_view_module": "@jupyter-widgets/controls",
            "_model_module_version": "1.5.0",
            "value": 50,
            "_view_count": null,
            "_view_module_version": "1.5.0",
            "orientation": "horizontal",
            "min": 0,
            "description_tooltip": null,
            "_model_module": "@jupyter-widgets/controls",
            "layout": "IPY_MODEL_c7a546f89b9941878f452340b7717baf"
          }
        },
        "239c8e6712d149cfaa6f0ce450a0f9c9": {
          "model_module": "@jupyter-widgets/controls",
          "model_name": "HTMLModel",
          "state": {
            "_view_name": "HTMLView",
            "style": "IPY_MODEL_df3c8c666fe1410cab2b2734c619e7a0",
            "_dom_classes": [],
            "description": "",
            "_model_name": "HTMLModel",
            "placeholder": "​",
            "_view_module": "@jupyter-widgets/controls",
            "_model_module_version": "1.5.0",
            "value": " 50/50 [28:37&lt;00:00, 34.36s/it, loss=0.0103]",
            "_view_count": null,
            "_view_module_version": "1.5.0",
            "description_tooltip": null,
            "_model_module": "@jupyter-widgets/controls",
            "layout": "IPY_MODEL_d42dc0fed0b7416b92ab0cd21fd98ff1"
          }
        },
        "01a7d8fb972a446da32978918ca9caff": {
          "model_module": "@jupyter-widgets/controls",
          "model_name": "ProgressStyleModel",
          "state": {
            "_view_name": "StyleView",
            "_model_name": "ProgressStyleModel",
            "description_width": "initial",
            "_view_module": "@jupyter-widgets/base",
            "_model_module_version": "1.5.0",
            "_view_count": null,
            "_view_module_version": "1.2.0",
            "bar_color": null,
            "_model_module": "@jupyter-widgets/controls"
          }
        },
        "c7a546f89b9941878f452340b7717baf": {
          "model_module": "@jupyter-widgets/base",
          "model_name": "LayoutModel",
          "state": {
            "_view_name": "LayoutView",
            "grid_template_rows": null,
            "right": null,
            "justify_content": null,
            "_view_module": "@jupyter-widgets/base",
            "overflow": null,
            "_model_module_version": "1.2.0",
            "_view_count": null,
            "flex_flow": null,
            "width": null,
            "min_width": null,
            "border": null,
            "align_items": null,
            "bottom": null,
            "_model_module": "@jupyter-widgets/base",
            "top": null,
            "grid_column": null,
            "overflow_y": null,
            "overflow_x": null,
            "grid_auto_flow": null,
            "grid_area": null,
            "grid_template_columns": null,
            "flex": null,
            "_model_name": "LayoutModel",
            "justify_items": null,
            "grid_row": null,
            "max_height": null,
            "align_content": null,
            "visibility": null,
            "align_self": null,
            "height": null,
            "min_height": null,
            "padding": null,
            "grid_auto_rows": null,
            "grid_gap": null,
            "max_width": null,
            "order": null,
            "_view_module_version": "1.2.0",
            "grid_template_areas": null,
            "object_position": null,
            "object_fit": null,
            "grid_auto_columns": null,
            "margin": null,
            "display": null,
            "left": null
          }
        },
        "df3c8c666fe1410cab2b2734c619e7a0": {
          "model_module": "@jupyter-widgets/controls",
          "model_name": "DescriptionStyleModel",
          "state": {
            "_view_name": "StyleView",
            "_model_name": "DescriptionStyleModel",
            "description_width": "",
            "_view_module": "@jupyter-widgets/base",
            "_model_module_version": "1.5.0",
            "_view_count": null,
            "_view_module_version": "1.2.0",
            "_model_module": "@jupyter-widgets/controls"
          }
        },
        "d42dc0fed0b7416b92ab0cd21fd98ff1": {
          "model_module": "@jupyter-widgets/base",
          "model_name": "LayoutModel",
          "state": {
            "_view_name": "LayoutView",
            "grid_template_rows": null,
            "right": null,
            "justify_content": null,
            "_view_module": "@jupyter-widgets/base",
            "overflow": null,
            "_model_module_version": "1.2.0",
            "_view_count": null,
            "flex_flow": null,
            "width": null,
            "min_width": null,
            "border": null,
            "align_items": null,
            "bottom": null,
            "_model_module": "@jupyter-widgets/base",
            "top": null,
            "grid_column": null,
            "overflow_y": null,
            "overflow_x": null,
            "grid_auto_flow": null,
            "grid_area": null,
            "grid_template_columns": null,
            "flex": null,
            "_model_name": "LayoutModel",
            "justify_items": null,
            "grid_row": null,
            "max_height": null,
            "align_content": null,
            "visibility": null,
            "align_self": null,
            "height": null,
            "min_height": null,
            "padding": null,
            "grid_auto_rows": null,
            "grid_gap": null,
            "max_width": null,
            "order": null,
            "_view_module_version": "1.2.0",
            "grid_template_areas": null,
            "object_position": null,
            "object_fit": null,
            "grid_auto_columns": null,
            "margin": null,
            "display": null,
            "left": null
          }
        }
      }
    }
  },
  "cells": [
    {
      "cell_type": "markdown",
      "metadata": {
        "id": "gmOLZMTok7Gb"
      },
      "source": [
        "### Movie Recommendation System - Ronit Malik \n",
        "\n",
        "The following code below is written to create a movie recommendation system."
      ]
    },
    {
      "cell_type": "code",
      "metadata": {
        "id": "S8aDR4hGoc6-"
      },
      "source": [
        "pip install -U scikit-learn"
      ],
      "execution_count": null,
      "outputs": []
    },
    {
      "cell_type": "code",
      "metadata": {
        "id": "Y6UqZvmpoph8"
      },
      "source": [
        "!pip install numpy==1.14.0\n",
        "!pip install scipy==1.1.0\n",
        "!pip install Scikit-learn==0.22 "
      ],
      "execution_count": null,
      "outputs": []
    },
    {
      "cell_type": "code",
      "metadata": {
        "id": "CN3C3BZdpmau"
      },
      "source": [
        "!pip install fuzzywuzzy\n",
        "!pip install matplotlib"
      ],
      "execution_count": null,
      "outputs": []
    },
    {
      "cell_type": "code",
      "metadata": {
        "id": "Z8L1qLIZPOTW"
      },
      "source": [
        "!pip uninstall numpy"
      ],
      "execution_count": null,
      "outputs": []
    },
    {
      "cell_type": "code",
      "metadata": {
        "id": "hmNJ3a33pUab"
      },
      "source": [
        "!pip install seaborn "
      ],
      "execution_count": null,
      "outputs": []
    },
    {
      "cell_type": "code",
      "metadata": {
        "id": "Q3Ri00iHpEeK"
      },
      "source": [
        "#Importing all the library \n",
        "\n",
        "import pandas as pd \n",
        "import numpy as np \n",
        "from scipy.sparse import csr_matrix\n",
        "from scipy import sparse\n",
        "from sklearn.neighbors import NearestNeighbors\n",
        "from sklearn import metrics\n",
        "from sklearn.feature_extraction.text import TfidfVectorizer\n",
        "from sklearn.metrics.pairwise import linear_kernel\n",
        "import seaborn as sns\n",
        "import matplotlib.pyplot as plt\n",
        "from fuzzywuzzy import process\n",
        "from scipy.sparse.linalg import svds\n",
        "import random \n",
        "\n",
        "sns.set_style(\"darkgrid\")\n",
        "\n",
        "\n",
        "\n",
        "import warnings \n",
        "warnings.simplefilter(action='ignore', category='FutureWarning')"
      ],
      "execution_count": null,
      "outputs": []
    },
    {
      "cell_type": "code",
      "metadata": {
        "id": "2pifVAEhnolC"
      },
      "source": [
        "# Now let us fetch the movielens dataset that will be used for thesis and to build a recommendation system.\n",
        "# The link to download the movielens dataset is http://files.grouplens.org/datasets/movielens/ml-latest-small.zip\n",
        "# However we do not want to download this on the local drive as we are working on google colab, therefore we can download the zip file directly \n",
        "# on google colab by using the !wget command \n",
        "\n",
        "#The following code below will download the zip file \n",
        "\n",
        "!wget http://files.grouplens.org/datasets/movielens/ml-latest-small.zip"
      ],
      "execution_count": null,
      "outputs": []
    },
    {
      "cell_type": "code",
      "metadata": {
        "id": "Fb4skfJMoPOw"
      },
      "source": [
        "# The following code above will download the entire zip file, however we are not interested in the zip file, we are concerned about the files \n",
        "# inside the zip file, therefore now we will unzip the file that has been downloaded above and extract all the files in the zip folder. \n",
        "# This can be done by using the !unzip command \n",
        "\n",
        "!unzip ml-latest-small.zip"
      ],
      "execution_count": null,
      "outputs": []
    },
    {
      "cell_type": "code",
      "metadata": {
        "id": "pqgIZ646onSC"
      },
      "source": [
        "# We can use the !ls command to check if the files have been downloaded correctly \n",
        "\n",
        "!ls"
      ],
      "execution_count": null,
      "outputs": []
    },
    {
      "cell_type": "code",
      "metadata": {
        "id": "ROQumzytot5j"
      },
      "source": [
        "# Now we can load the following csv file that we unzip above and create a dataframe \n",
        "\n",
        "links = pd.read_csv(\"ml-latest-small/links.csv\")\n",
        "\n",
        "tags = pd.read_csv(\"ml-latest-small/tags.csv\")\n",
        "\n",
        "ratings = pd.read_csv(\"ml-latest-small/ratings.csv\")\n",
        "\n",
        "movies = pd.read_csv(\"ml-latest-small/movies.csv\")\n"
      ],
      "execution_count": null,
      "outputs": []
    },
    {
      "cell_type": "markdown",
      "metadata": {
        "id": "Ad78vvM-rkMH"
      },
      "source": [
        "We can perform basic data exploration to get a better understanding of the type of data we are working with. "
      ]
    },
    {
      "cell_type": "code",
      "metadata": {
        "id": "uvZCidP7Wy1i"
      },
      "source": [
        "ratings.head()"
      ],
      "execution_count": null,
      "outputs": []
    },
    {
      "cell_type": "code",
      "metadata": {
        "id": "GejaSiZjpDHv"
      },
      "source": [
        "# let view the dataset and see the type of data types we have and the shape of the dataframe \n",
        "# We can create a function which would save time and print the shape for all the dataframe \n",
        "\n",
        "def dataset_shape(dataset_shape):\n",
        "  a = ratings.shape\n",
        "  b = movies.shape\n",
        "  c = tags.shape \n",
        "  d = links.shape\n",
        "  \n",
        "  return(a, b, c, d)\n",
        "\n",
        "dataset_shape(dataset_shape)"
      ],
      "execution_count": null,
      "outputs": []
    },
    {
      "cell_type": "markdown",
      "metadata": {
        "id": "p5ZQrPOZqNyz"
      },
      "source": [
        "As seen above the following function above that letters from a to d have been assigned for the shape of each dataframe, as seen above \n",
        "\n",
        "\n",
        "\n",
        "*   Ratings = 100,836 rows and 4 columns \n",
        "\n",
        "*   Movies = 9742 rows and 3 columns \n",
        "\n",
        "*   tags = 3683 rows and 4 columns \n",
        "\n",
        "*   links = 9742 rows and 3 columns \n",
        "\n",
        "\n",
        "\n",
        "\n"
      ]
    },
    {
      "cell_type": "code",
      "metadata": {
        "id": "FM1WzFF6rjiy"
      },
      "source": [
        "# Let us see the different coloumns in the dataset given above \n",
        "# Creating a function to view coloumns in the dataset \n",
        "\n",
        "def dataset_coloumn(dataset_coloumn):\n",
        "  a = ratings.columns\n",
        "  b = movies.columns\n",
        "  c = tags.columns \n",
        "  d = links.columns\n",
        "  \n",
        "  return(a, b, c, d)\n",
        "\n",
        "dataset_coloumn(dataset_coloumn)"
      ],
      "execution_count": null,
      "outputs": []
    },
    {
      "cell_type": "markdown",
      "metadata": {
        "id": "MchywIBqsF0A"
      },
      "source": [
        "As seen above the following function above that letters from a to d have been assigned for the columns of each dataframe, as seen above \n",
        "\n",
        "\n",
        "\n",
        "*   Ratings = (['userId', 'movieId', 'rating', 'timestamp'], dtype='object')\n",
        "\n",
        "*   Movies = (['movieId', 'title', 'genres'], dtype='object')\n",
        "\n",
        "*   tags = (['userId', 'movieId', 'tag', 'timestamp'], dtype='object')\n",
        "\n",
        "*   links = (['movieId', 'imdbId', 'tmdbId'], dtype='object')\n"
      ]
    },
    {
      "cell_type": "markdown",
      "metadata": {
        "id": "DwvlSse-sfAx"
      },
      "source": [
        "As seen from the different columns in the dataset, one common column in every dataset is movieID, this will play an important role while mergering different dataset together, as that can act as a reference point to merge datasets "
      ]
    },
    {
      "cell_type": "markdown",
      "metadata": {
        "id": "Pc18UfDTtUmp"
      },
      "source": [
        "As rating plays an important role for modelling and recommendation both for content based and collaborative filtering, let us look more into the ratings dataset and understand it. "
      ]
    },
    {
      "cell_type": "code",
      "metadata": {
        "id": "uJyA9zP7T5yM"
      },
      "source": [
        "# Exploring the type of data types in the dataset \n",
        "def dataset_info():\n",
        "  a = ratings.info()\n",
        "  b = movies.info()\n",
        "  c = tags.info()\n",
        "  d = links.info()\n",
        "\n",
        "  return(a, b, c, d)\n",
        "\n",
        "dataset_info()\n"
      ],
      "execution_count": null,
      "outputs": []
    },
    {
      "cell_type": "code",
      "metadata": {
        "id": "sioYFKmWyzBC"
      },
      "source": [
        "#randomly shuffling the rows to avoid any bias \n",
        "\n",
        "random.seed(4321)\n",
        "\n",
        "ratings =ratings.iloc[np.random.permutation(ratings.index)].reset_index(drop=True)\n",
        "movies = movies.iloc[np.random.permutation(movies.index)].reset_index(drop=True)"
      ],
      "execution_count": null,
      "outputs": []
    },
    {
      "cell_type": "code",
      "metadata": {
        "id": "zZILN0T_tdc4",
        "outputId": "8b53950c-b0a4-401c-8bd2-d14b95682260",
        "colab": {
          "base_uri": "https://localhost:8080/",
          "height": 102
        }
      },
      "source": [
        "#Exploring the rating dataset \n",
        "\n",
        "number_of_ratings = len(ratings)\n",
        "number_of_movies = ratings['movieId'].nunique()\n",
        "number_of_users = ratings['userId'].nunique()\n",
        "\n",
        "print(f\"Number of ratings: {number_of_ratings}\")\n",
        "print(f\"Number of unique movieId's: {number_of_movies}\")\n",
        "print(f\"Number of unique users: {number_of_users}\")\n",
        "print(f\"Average number of ratings per user: {round(number_of_ratings/number_of_users, )}\")\n",
        "print(f\"Average number of ratings per movie: {round(number_of_ratings/number_of_movies, )}\")"
      ],
      "execution_count": null,
      "outputs": [
        {
          "output_type": "stream",
          "text": [
            "Number of ratings: 100836\n",
            "Number of unique movieId's: 9724\n",
            "Number of unique users: 610\n",
            "Average number of ratings per user: 165\n",
            "Average number of ratings per movie: 10\n"
          ],
          "name": "stdout"
        }
      ]
    },
    {
      "cell_type": "markdown",
      "metadata": {
        "id": "sHsJp5KDuBSf"
      },
      "source": [
        "Now let us explore how many movies have been rated by each user "
      ]
    },
    {
      "cell_type": "code",
      "metadata": {
        "id": "RqDHgA2nurhk",
        "outputId": "e6c5de77-4e72-4416-e7a4-d8733e396f92",
        "colab": {
          "base_uri": "https://localhost:8080/",
          "height": 102
        }
      },
      "source": [
        "# Visualising any missing values in the dataset \n",
        "\n",
        "ratings.isnull().count()"
      ],
      "execution_count": null,
      "outputs": [
        {
          "output_type": "execute_result",
          "data": {
            "text/plain": [
              "userId       100836\n",
              "movieId      100836\n",
              "rating       100836\n",
              "timestamp    100836\n",
              "dtype: int64"
            ]
          },
          "metadata": {
            "tags": []
          },
          "execution_count": 18
        }
      ]
    },
    {
      "cell_type": "code",
      "metadata": {
        "id": "b8z1awRFuFJJ",
        "outputId": "445d6c7e-4196-4806-d856-1ef92af5cf5b",
        "colab": {
          "base_uri": "https://localhost:8080/",
          "height": 374
        }
      },
      "source": [
        "#let's take a look at users' rating counts. We can do this using pandas' groupby() and count() \n",
        "# which groups the data by userId's and counts the number of ratings for each userId.\n",
        "\n",
        "def user_rating_freq(user_rating_freq):\n",
        "  user_freq = ratings[['userId', 'movieId']].groupby('userId').count().reset_index()\n",
        "  user_freq.columns = ['userId', 'number_of_ratings']\n",
        "  a = user_freq.head(10)\n",
        "  b = user_freq.tail(10)\n",
        "\n",
        "  return(a, b)\n",
        "\n",
        "#Calling the function \n",
        "user_rating_freq(user_rating_freq)"
      ],
      "execution_count": null,
      "outputs": [
        {
          "output_type": "execute_result",
          "data": {
            "text/plain": [
              "(   userId  number_of_ratings\n",
              " 0       1                232\n",
              " 1       2                 29\n",
              " 2       3                 39\n",
              " 3       4                216\n",
              " 4       5                 44\n",
              " 5       6                314\n",
              " 6       7                152\n",
              " 7       8                 47\n",
              " 8       9                 46\n",
              " 9      10                140,      userId  number_of_ratings\n",
              " 600     601                101\n",
              " 601     602                135\n",
              " 602     603                943\n",
              " 603     604                100\n",
              " 604     605                221\n",
              " 605     606               1115\n",
              " 606     607                187\n",
              " 607     608                831\n",
              " 608     609                 37\n",
              " 609     610               1302)"
            ]
          },
          "metadata": {
            "tags": []
          },
          "execution_count": 19
        }
      ]
    },
    {
      "cell_type": "markdown",
      "metadata": {
        "id": "S4-NOAjfAZQg"
      },
      "source": [
        "# Data Pre-processing and Cleaning for rating and movies dataset "
      ]
    },
    {
      "cell_type": "markdown",
      "metadata": {
        "id": "F6cUvzjNu9zD"
      },
      "source": [
        "The following function above lets us see the number of movies rated by each user, we can see that there are some user who have rated 100+ movies and some users who have rated less than 50 movies. \n",
        "\n",
        "We can also visualise the following table above in a bar chart \n"
      ]
    },
    {
      "cell_type": "code",
      "metadata": {
        "id": "wBIiUSdJzsD-",
        "outputId": "73e82c98-bad9-4a7a-8c9b-82df0dff59ba",
        "colab": {
          "base_uri": "https://localhost:8080/",
          "height": 51
        }
      },
      "source": [
        "# For the purpose of modelling we will only consider users who have rated more than 50 movies, we will keep 50 movies as a minimum threshold for users rate\n",
        "#Setting a threshold for the number of ratings per users should be more than 50 and creating a new dataset \n",
        "\n",
        "print(f\"Number of unique movieId's: {number_of_movies}\")\n",
        "\n",
        "# As seen we have 9724 movies in the dataset, therefore the threshold will be for the user to have rated atleast 0.5% movies in the entire dataset\n",
        "# for modelling significance \n",
        "\n",
        "# Setting Threshold \n",
        "\n",
        "user_threshold = 0.005\n",
        "\n",
        "min_threshold = round(number_of_movies * user_threshold)\n",
        "\n",
        "print(f\"User rating for movie threshold is: {min_threshold}\")"
      ],
      "execution_count": null,
      "outputs": [
        {
          "output_type": "stream",
          "text": [
            "Number of unique movieId's: 9724\n",
            "User rating for movie threshold is: 49\n"
          ],
          "name": "stdout"
        }
      ]
    },
    {
      "cell_type": "markdown",
      "metadata": {
        "id": "2-kRe5vmyhxy"
      },
      "source": [
        "As seen above, we have set a user threshold of 0.5% which represents that a user should meet that threshold for the purpose of modelling"
      ]
    },
    {
      "cell_type": "code",
      "metadata": {
        "id": "YMSkW_shzUJK",
        "outputId": "85d8a9dd-a8dd-435c-bbd4-4ddfa60facac",
        "colab": {
          "base_uri": "https://localhost:8080/",
          "height": 204
        }
      },
      "source": [
        "# Now we apply this threshold to our original rating dataset to only take users who have rated more than the minimum threshold. \n",
        "# Creating a new dataframe where we will have users which have met the minimum threshold \n",
        "## We are creating a variable A to store all the users that have met the threshold\n",
        "### Then we create a variable called threshold where we store all the userID and Ratings\n",
        "\n",
        "user_freq = ratings[['userId', 'movieId']].groupby('userId').count().reset_index()\n",
        "user_freq.columns = ['userId', 'number_of_ratings']\n",
        "\n",
        "threshold_setting = user_freq['number_of_ratings'] > min_threshold\n",
        "threshold_data = user_freq[threshold_setting]\n",
        "threshold_data.head()\n"
      ],
      "execution_count": null,
      "outputs": [
        {
          "output_type": "execute_result",
          "data": {
            "text/html": [
              "<div>\n",
              "<style scoped>\n",
              "    .dataframe tbody tr th:only-of-type {\n",
              "        vertical-align: middle;\n",
              "    }\n",
              "\n",
              "    .dataframe tbody tr th {\n",
              "        vertical-align: top;\n",
              "    }\n",
              "\n",
              "    .dataframe thead th {\n",
              "        text-align: right;\n",
              "    }\n",
              "</style>\n",
              "<table border=\"1\" class=\"dataframe\">\n",
              "  <thead>\n",
              "    <tr style=\"text-align: right;\">\n",
              "      <th></th>\n",
              "      <th>userId</th>\n",
              "      <th>number_of_ratings</th>\n",
              "    </tr>\n",
              "  </thead>\n",
              "  <tbody>\n",
              "    <tr>\n",
              "      <th>0</th>\n",
              "      <td>1</td>\n",
              "      <td>232</td>\n",
              "    </tr>\n",
              "    <tr>\n",
              "      <th>3</th>\n",
              "      <td>4</td>\n",
              "      <td>216</td>\n",
              "    </tr>\n",
              "    <tr>\n",
              "      <th>5</th>\n",
              "      <td>6</td>\n",
              "      <td>314</td>\n",
              "    </tr>\n",
              "    <tr>\n",
              "      <th>6</th>\n",
              "      <td>7</td>\n",
              "      <td>152</td>\n",
              "    </tr>\n",
              "    <tr>\n",
              "      <th>9</th>\n",
              "      <td>10</td>\n",
              "      <td>140</td>\n",
              "    </tr>\n",
              "  </tbody>\n",
              "</table>\n",
              "</div>"
            ],
            "text/plain": [
              "   userId  number_of_ratings\n",
              "0       1                232\n",
              "3       4                216\n",
              "5       6                314\n",
              "6       7                152\n",
              "9      10                140"
            ]
          },
          "metadata": {
            "tags": []
          },
          "execution_count": 21
        }
      ]
    },
    {
      "cell_type": "markdown",
      "metadata": {
        "id": "znS0cIl13Wf1"
      },
      "source": [
        "Now we have created a new dataframe above which all list of all the users that have rated above the minimum threshold, now this data will be used to merge with the original ratings dataset with only users meeting the minimum threshold. "
      ]
    },
    {
      "cell_type": "code",
      "metadata": {
        "id": "oAUGzoV-3r-Y",
        "outputId": "b2951e80-9905-4962-f994-96a89fb01a6f",
        "colab": {
          "base_uri": "https://localhost:8080/",
          "height": 204
        }
      },
      "source": [
        "# Merging the data to create a dataset with the updated list of users who have met the minimum threshold. \n",
        "\n",
        "ratings_with_user_threshold = threshold_data.merge(ratings, on='userId', how='left')\n",
        "ratings_with_user_threshold.head()"
      ],
      "execution_count": null,
      "outputs": [
        {
          "output_type": "execute_result",
          "data": {
            "text/html": [
              "<div>\n",
              "<style scoped>\n",
              "    .dataframe tbody tr th:only-of-type {\n",
              "        vertical-align: middle;\n",
              "    }\n",
              "\n",
              "    .dataframe tbody tr th {\n",
              "        vertical-align: top;\n",
              "    }\n",
              "\n",
              "    .dataframe thead th {\n",
              "        text-align: right;\n",
              "    }\n",
              "</style>\n",
              "<table border=\"1\" class=\"dataframe\">\n",
              "  <thead>\n",
              "    <tr style=\"text-align: right;\">\n",
              "      <th></th>\n",
              "      <th>userId</th>\n",
              "      <th>number_of_ratings</th>\n",
              "      <th>movieId</th>\n",
              "      <th>rating</th>\n",
              "      <th>timestamp</th>\n",
              "    </tr>\n",
              "  </thead>\n",
              "  <tbody>\n",
              "    <tr>\n",
              "      <th>0</th>\n",
              "      <td>1</td>\n",
              "      <td>232</td>\n",
              "      <td>1196</td>\n",
              "      <td>5.0</td>\n",
              "      <td>964981827</td>\n",
              "    </tr>\n",
              "    <tr>\n",
              "      <th>1</th>\n",
              "      <td>1</td>\n",
              "      <td>232</td>\n",
              "      <td>6</td>\n",
              "      <td>4.0</td>\n",
              "      <td>964982224</td>\n",
              "    </tr>\n",
              "    <tr>\n",
              "      <th>2</th>\n",
              "      <td>1</td>\n",
              "      <td>232</td>\n",
              "      <td>3702</td>\n",
              "      <td>5.0</td>\n",
              "      <td>964983737</td>\n",
              "    </tr>\n",
              "    <tr>\n",
              "      <th>3</th>\n",
              "      <td>1</td>\n",
              "      <td>232</td>\n",
              "      <td>2478</td>\n",
              "      <td>4.0</td>\n",
              "      <td>964984169</td>\n",
              "    </tr>\n",
              "    <tr>\n",
              "      <th>4</th>\n",
              "      <td>1</td>\n",
              "      <td>232</td>\n",
              "      <td>1025</td>\n",
              "      <td>5.0</td>\n",
              "      <td>964982791</td>\n",
              "    </tr>\n",
              "  </tbody>\n",
              "</table>\n",
              "</div>"
            ],
            "text/plain": [
              "   userId  number_of_ratings  movieId  rating  timestamp\n",
              "0       1                232     1196     5.0  964981827\n",
              "1       1                232        6     4.0  964982224\n",
              "2       1                232     3702     5.0  964983737\n",
              "3       1                232     2478     4.0  964984169\n",
              "4       1                232     1025     5.0  964982791"
            ]
          },
          "metadata": {
            "tags": []
          },
          "execution_count": 22
        }
      ]
    },
    {
      "cell_type": "code",
      "metadata": {
        "id": "0p09HeTWzRix",
        "outputId": "f74ef20c-7e43-4b39-d18a-9906d6a5b7f4",
        "colab": {
          "base_uri": "https://localhost:8080/",
          "height": 34
        }
      },
      "source": [
        "ratings_with_user_threshold.shape"
      ],
      "execution_count": null,
      "outputs": [
        {
          "output_type": "execute_result",
          "data": {
            "text/plain": [
              "(93812, 5)"
            ]
          },
          "metadata": {
            "tags": []
          },
          "execution_count": 23
        }
      ]
    },
    {
      "cell_type": "code",
      "metadata": {
        "id": "tj5HzMFE4Z_e",
        "outputId": "4065b066-2f0f-4ab5-f372-f7f8027a414a",
        "colab": {
          "base_uri": "https://localhost:8080/",
          "height": 367
        }
      },
      "source": [
        "#Let us visualise the dataset \n",
        "# We can see that the most common rating here is 4, whereas the lowest rating is around ~0.5 - 1 \n",
        "\n",
        "sns.set_style(\"whitegrid\")\n",
        "plt.figure(figsize=(14,5))\n",
        "plt.subplot(1,2,1)\n",
        "ax = sns.countplot(x=\"rating\", data=ratings_with_user_threshold, palette=\"viridis\")\n",
        "plt.title(\"Distribution of movie ratings\")\n"
      ],
      "execution_count": null,
      "outputs": [
        {
          "output_type": "execute_result",
          "data": {
            "text/plain": [
              "Text(0.5, 1.0, 'Distribution of movie ratings')"
            ]
          },
          "metadata": {
            "tags": []
          },
          "execution_count": 29
        },
        {
          "output_type": "display_data",
          "data": {
            "image/png": "[encoded data removed]",
            "text/plain": [
              "<Figure size 1008x360 with 1 Axes>"
            ]
          },
          "metadata": {
            "tags": []
          }
        }
      ]
    },
    {
      "cell_type": "markdown",
      "metadata": {
        "id": "DM1b01VV49fZ"
      },
      "source": [
        "As seen from the visualisation above, a lot of users have given a rating of 4 for most of the movies"
      ]
    },
    {
      "cell_type": "markdown",
      "metadata": {
        "id": "GKvK3BOi5Eih"
      },
      "source": [
        "After preprocessing our dataset with minimum threshold, let us clean the data and remove the columns we do not need. "
      ]
    },
    {
      "cell_type": "code",
      "metadata": {
        "id": "CcXMk6dF5Xbb",
        "outputId": "e33e557d-79cd-4eaf-8555-2f67977cfcdd",
        "colab": {
          "base_uri": "https://localhost:8080/",
          "height": 204
        }
      },
      "source": [
        "#droping the number of ratings per user as it has no significance for modelling\n",
        "\n",
        "ratings_data = ratings_with_user_threshold.drop(labels='number_of_ratings',axis=1) \n",
        "ratings_data.head()"
      ],
      "execution_count": null,
      "outputs": [
        {
          "output_type": "execute_result",
          "data": {
            "text/html": [
              "<div>\n",
              "<style scoped>\n",
              "    .dataframe tbody tr th:only-of-type {\n",
              "        vertical-align: middle;\n",
              "    }\n",
              "\n",
              "    .dataframe tbody tr th {\n",
              "        vertical-align: top;\n",
              "    }\n",
              "\n",
              "    .dataframe thead th {\n",
              "        text-align: right;\n",
              "    }\n",
              "</style>\n",
              "<table border=\"1\" class=\"dataframe\">\n",
              "  <thead>\n",
              "    <tr style=\"text-align: right;\">\n",
              "      <th></th>\n",
              "      <th>userId</th>\n",
              "      <th>movieId</th>\n",
              "      <th>rating</th>\n",
              "      <th>timestamp</th>\n",
              "    </tr>\n",
              "  </thead>\n",
              "  <tbody>\n",
              "    <tr>\n",
              "      <th>0</th>\n",
              "      <td>1</td>\n",
              "      <td>1196</td>\n",
              "      <td>5.0</td>\n",
              "      <td>964981827</td>\n",
              "    </tr>\n",
              "    <tr>\n",
              "      <th>1</th>\n",
              "      <td>1</td>\n",
              "      <td>6</td>\n",
              "      <td>4.0</td>\n",
              "      <td>964982224</td>\n",
              "    </tr>\n",
              "    <tr>\n",
              "      <th>2</th>\n",
              "      <td>1</td>\n",
              "      <td>3702</td>\n",
              "      <td>5.0</td>\n",
              "      <td>964983737</td>\n",
              "    </tr>\n",
              "    <tr>\n",
              "      <th>3</th>\n",
              "      <td>1</td>\n",
              "      <td>2478</td>\n",
              "      <td>4.0</td>\n",
              "      <td>964984169</td>\n",
              "    </tr>\n",
              "    <tr>\n",
              "      <th>4</th>\n",
              "      <td>1</td>\n",
              "      <td>1025</td>\n",
              "      <td>5.0</td>\n",
              "      <td>964982791</td>\n",
              "    </tr>\n",
              "  </tbody>\n",
              "</table>\n",
              "</div>"
            ],
            "text/plain": [
              "   userId  movieId  rating  timestamp\n",
              "0       1     1196     5.0  964981827\n",
              "1       1        6     4.0  964982224\n",
              "2       1     3702     5.0  964983737\n",
              "3       1     2478     4.0  964984169\n",
              "4       1     1025     5.0  964982791"
            ]
          },
          "metadata": {
            "tags": []
          },
          "execution_count": 75
        }
      ]
    },
    {
      "cell_type": "markdown",
      "metadata": {
        "id": "QKizqUTH-Kr0"
      },
      "source": [
        "The next step is to check if our code worked, if it did it should not show users who have not met the minimum threshold in the dataset, when the code below is executed it should show a blank output which will show that the user has not met the minimum requirement. "
      ]
    },
    {
      "cell_type": "code",
      "metadata": {
        "id": "VA7SOO7G-Zux",
        "outputId": "e14d29eb-beb7-4340-bc4d-f2f390ea6d7f",
        "colab": {
          "base_uri": "https://localhost:8080/",
          "height": 49
        }
      },
      "source": [
        "# Here we are taking userID 2 as an example to check if there are any records showing on the updated dataframe. \n",
        "# The output should show blank as there is no record for userID 2 as it has not met the minimum requirement  \n",
        "\n",
        "ratings_data.loc[ratings_data['userId'] == 2]"
      ],
      "execution_count": null,
      "outputs": [
        {
          "output_type": "execute_result",
          "data": {
            "text/html": [
              "<div>\n",
              "<style scoped>\n",
              "    .dataframe tbody tr th:only-of-type {\n",
              "        vertical-align: middle;\n",
              "    }\n",
              "\n",
              "    .dataframe tbody tr th {\n",
              "        vertical-align: top;\n",
              "    }\n",
              "\n",
              "    .dataframe thead th {\n",
              "        text-align: right;\n",
              "    }\n",
              "</style>\n",
              "<table border=\"1\" class=\"dataframe\">\n",
              "  <thead>\n",
              "    <tr style=\"text-align: right;\">\n",
              "      <th></th>\n",
              "      <th>userId</th>\n",
              "      <th>movieId</th>\n",
              "      <th>rating</th>\n",
              "      <th>timestamp</th>\n",
              "    </tr>\n",
              "  </thead>\n",
              "  <tbody>\n",
              "  </tbody>\n",
              "</table>\n",
              "</div>"
            ],
            "text/plain": [
              "Empty DataFrame\n",
              "Columns: [userId, movieId, rating, timestamp]\n",
              "Index: []"
            ]
          },
          "metadata": {
            "tags": []
          },
          "execution_count": 76
        }
      ]
    },
    {
      "cell_type": "markdown",
      "metadata": {
        "id": "KbK39OuyBPwk"
      },
      "source": [
        "Now the data for ratings has been prepared and ready to be used for modelling, now let us look at the movies dataset and clean that before merging it. "
      ]
    },
    {
      "cell_type": "code",
      "metadata": {
        "id": "u2QbaUsVBPGZ",
        "outputId": "8d2775a4-8ce4-42b7-d9f9-1540e83c0f48",
        "colab": {
          "base_uri": "https://localhost:8080/",
          "height": 359
        }
      },
      "source": [
        "#Let us view the movies dataset the first 10 rows \n",
        "\n",
        "movies.head(10)"
      ],
      "execution_count": null,
      "outputs": [
        {
          "output_type": "execute_result",
          "data": {
            "text/html": [
              "<div>\n",
              "<style scoped>\n",
              "    .dataframe tbody tr th:only-of-type {\n",
              "        vertical-align: middle;\n",
              "    }\n",
              "\n",
              "    .dataframe tbody tr th {\n",
              "        vertical-align: top;\n",
              "    }\n",
              "\n",
              "    .dataframe thead th {\n",
              "        text-align: right;\n",
              "    }\n",
              "</style>\n",
              "<table border=\"1\" class=\"dataframe\">\n",
              "  <thead>\n",
              "    <tr style=\"text-align: right;\">\n",
              "      <th></th>\n",
              "      <th>movieId</th>\n",
              "      <th>title</th>\n",
              "      <th>genres</th>\n",
              "    </tr>\n",
              "  </thead>\n",
              "  <tbody>\n",
              "    <tr>\n",
              "      <th>0</th>\n",
              "      <td>66320</td>\n",
              "      <td>11th Hour, The (2007)</td>\n",
              "      <td>[Documentary]</td>\n",
              "    </tr>\n",
              "    <tr>\n",
              "      <th>1</th>\n",
              "      <td>148667</td>\n",
              "      <td>John Mulaney: The Comeback Kid (2015)</td>\n",
              "      <td>[Comedy]</td>\n",
              "    </tr>\n",
              "    <tr>\n",
              "      <th>2</th>\n",
              "      <td>7266</td>\n",
              "      <td>Lost Skeleton of Cadavra, The (2002)</td>\n",
              "      <td>[Comedy, Horror, Sci-Fi]</td>\n",
              "    </tr>\n",
              "    <tr>\n",
              "      <th>3</th>\n",
              "      <td>102338</td>\n",
              "      <td>Shaolin Temple (Shao Lin si) (1976)</td>\n",
              "      <td>[Action, Adventure, Drama]</td>\n",
              "    </tr>\n",
              "    <tr>\n",
              "      <th>4</th>\n",
              "      <td>4465</td>\n",
              "      <td>Accused, The (1988)</td>\n",
              "      <td>[Drama]</td>\n",
              "    </tr>\n",
              "    <tr>\n",
              "      <th>5</th>\n",
              "      <td>7028</td>\n",
              "      <td>Quick Change (1990)</td>\n",
              "      <td>[Comedy, Crime]</td>\n",
              "    </tr>\n",
              "    <tr>\n",
              "      <th>6</th>\n",
              "      <td>4704</td>\n",
              "      <td>Hatari! (1962)</td>\n",
              "      <td>[Adventure, Comedy]</td>\n",
              "    </tr>\n",
              "    <tr>\n",
              "      <th>7</th>\n",
              "      <td>6811</td>\n",
              "      <td>PCU (1994)</td>\n",
              "      <td>[Comedy]</td>\n",
              "    </tr>\n",
              "    <tr>\n",
              "      <th>8</th>\n",
              "      <td>870</td>\n",
              "      <td>Gone Fishin' (1997)</td>\n",
              "      <td>[Comedy]</td>\n",
              "    </tr>\n",
              "    <tr>\n",
              "      <th>9</th>\n",
              "      <td>68237</td>\n",
              "      <td>Moon (2009)</td>\n",
              "      <td>[Drama, Mystery, Sci-Fi, Thriller]</td>\n",
              "    </tr>\n",
              "  </tbody>\n",
              "</table>\n",
              "</div>"
            ],
            "text/plain": [
              "   movieId  ...                              genres\n",
              "0    66320  ...                       [Documentary]\n",
              "1   148667  ...                            [Comedy]\n",
              "2     7266  ...            [Comedy, Horror, Sci-Fi]\n",
              "3   102338  ...          [Action, Adventure, Drama]\n",
              "4     4465  ...                             [Drama]\n",
              "5     7028  ...                     [Comedy, Crime]\n",
              "6     4704  ...                 [Adventure, Comedy]\n",
              "7     6811  ...                            [Comedy]\n",
              "8      870  ...                            [Comedy]\n",
              "9    68237  ...  [Drama, Mystery, Sci-Fi, Thriller]\n",
              "\n",
              "[10 rows x 3 columns]"
            ]
          },
          "metadata": {
            "tags": []
          },
          "execution_count": 77
        }
      ]
    },
    {
      "cell_type": "code",
      "metadata": {
        "id": "hqVkxdr1B04V",
        "outputId": "2ad29d16-c3ad-4696-fe3b-c97033b70f0f",
        "colab": {
          "base_uri": "https://localhost:8080/",
          "height": 85
        }
      },
      "source": [
        "# Let us look for any null values in the dataset \n",
        "\n",
        "movies.isnull().sum(axis=0)"
      ],
      "execution_count": null,
      "outputs": [
        {
          "output_type": "execute_result",
          "data": {
            "text/plain": [
              "movieId    0\n",
              "title      0\n",
              "genres     0\n",
              "dtype: int64"
            ]
          },
          "metadata": {
            "tags": []
          },
          "execution_count": 78
        }
      ]
    },
    {
      "cell_type": "markdown",
      "metadata": {
        "id": "q2d25MJxB7i2"
      },
      "source": [
        "There is no null values present in the movies dataset, the next thing that can be done is to remove the \"|\" from the genre column "
      ]
    },
    {
      "cell_type": "code",
      "metadata": {
        "id": "W5-BB9mFCF8A"
      },
      "source": [
        "# First we will convert the genre from string to a list, becasue the current data takes into account the pipe funtion\n",
        "## so we can remove that to make it easier \n",
        "\n",
        "movies['genres'] = movies['genres'].apply(lambda x: x.split(\"|\"))\n",
        "movies.head()"
      ],
      "execution_count": null,
      "outputs": []
    },
    {
      "cell_type": "markdown",
      "metadata": {
        "id": "DAQTxVpwCgjW"
      },
      "source": [
        "Now that the pipe function is removed, let us look that most popular genre in the movies dataset, this can be done by using the count function "
      ]
    },
    {
      "cell_type": "code",
      "metadata": {
        "id": "zKaEvAmDCnVG",
        "outputId": "31b93623-2c13-4cb3-93df-8d8e5c6a3a86",
        "colab": {
          "base_uri": "https://localhost:8080/",
          "height": 374
        }
      },
      "source": [
        "# We need to check how many movie genre are there, \n",
        "# We can use Python's Counter to create a dictionary containing frequency counts of each genre in our dataset.\n",
        "\n",
        "from collections import Counter\n",
        "\n",
        "genres_counts = Counter(g for genres in movies['genres'] for g in genres)\n",
        "print(f\"There are {len(genres_counts)} genre labels.\")\n",
        "genres_counts"
      ],
      "execution_count": null,
      "outputs": [
        {
          "output_type": "stream",
          "text": [
            "There are 20 genre labels.\n"
          ],
          "name": "stdout"
        },
        {
          "output_type": "execute_result",
          "data": {
            "text/plain": [
              "Counter({'(no genres listed)': 34,\n",
              "         'Action': 1828,\n",
              "         'Adventure': 1263,\n",
              "         'Animation': 611,\n",
              "         'Children': 664,\n",
              "         'Comedy': 3756,\n",
              "         'Crime': 1199,\n",
              "         'Documentary': 440,\n",
              "         'Drama': 4361,\n",
              "         'Fantasy': 779,\n",
              "         'Film-Noir': 87,\n",
              "         'Horror': 978,\n",
              "         'IMAX': 158,\n",
              "         'Musical': 334,\n",
              "         'Mystery': 573,\n",
              "         'Romance': 1596,\n",
              "         'Sci-Fi': 980,\n",
              "         'Thriller': 1894,\n",
              "         'War': 382,\n",
              "         'Western': 167})"
            ]
          },
          "metadata": {
            "tags": []
          },
          "execution_count": 120
        }
      ]
    },
    {
      "cell_type": "code",
      "metadata": {
        "id": "dreYgOWhCxmQ",
        "outputId": "4e7762fa-ad1e-4a01-8cec-1ec38d9c5bea",
        "colab": {
          "base_uri": "https://localhost:8080/",
          "height": 51
        }
      },
      "source": [
        "#Let's remove all movies having (no genres listed) as its genre label. We'll also remove this from our genre_counts dictionary.\n",
        "\n",
        "movies = movies[movies['genres']!='(no genres listed)']\n",
        "\n",
        "del genres_counts['(no genres listed)']\n",
        "\n",
        "# Now let us look for the most popular genre\n",
        "print(\"The 5 most common genres: \\n\", genres_counts.most_common(5))"
      ],
      "execution_count": null,
      "outputs": [
        {
          "output_type": "stream",
          "text": [
            "The 5 most common genres: \n",
            " [('Drama', 4361), ('Comedy', 3756), ('Thriller', 1894), ('Action', 1828), ('Romance', 1596)]\n"
          ],
          "name": "stdout"
        }
      ]
    },
    {
      "cell_type": "code",
      "metadata": {
        "id": "FBQ8eAhUDi5C",
        "outputId": "e04d9fa5-20f2-4823-af1d-d3db2d153e41",
        "colab": {
          "base_uri": "https://localhost:8080/",
          "height": 407
        }
      },
      "source": [
        "# We can also visualise the genre popularity in a form of bar plot \n",
        "genres_counts_df = pd.DataFrame([genres_counts]).T.reset_index()\n",
        "genres_counts_df.columns = ['genres', 'count']\n",
        "genres_counts_df = genres_counts_df.sort_values(by='count', ascending=False)\n",
        "\n",
        "plt.figure(figsize=(10,5))\n",
        "sns.barplot(x='genres', y='count', data=genres_counts_df, palette='viridis')\n",
        "plt.xticks(rotation=90)\n",
        "plt.title(\"Popular Genre\")\n",
        "plt.show()"
      ],
      "execution_count": null,
      "outputs": [
        {
          "output_type": "display_data",
          "data": {
            "image/png": "[encoded data removed]",
            "text/plain": [
              "<Figure size 720x360 with 1 Axes>"
            ]
          },
          "metadata": {
            "tags": []
          }
        }
      ]
    },
    {
      "cell_type": "markdown",
      "metadata": {
        "id": "0giiTDbiimnI"
      },
      "source": [
        "# Content - Based Recommendation System "
      ]
    },
    {
      "cell_type": "code",
      "metadata": {
        "id": "fzzN-xIxiy6x"
      },
      "source": [
        "#Let us load the clean and prepared data here again \n",
        "\n",
        "ratings_data = ratings_data\n",
        "\n",
        "movies = movies\n",
        "\n",
        "links = links\n",
        "\n",
        "tags = tags"
      ],
      "execution_count": null,
      "outputs": []
    },
    {
      "cell_type": "code",
      "metadata": {
        "id": "MnHQedIkk5cA",
        "outputId": "4e818969-2408-4c84-a797-0184d427deb8",
        "colab": {
          "base_uri": "https://localhost:8080/",
          "height": 204
        }
      },
      "source": [
        "# Here we are merging movies and ratings data together based on movieID \n",
        "content_based_movie_data = pd.merge(ratings_data, movies, on='movieId', how='left')\n",
        "content_based_movie_data.head()"
      ],
      "execution_count": null,
      "outputs": [
        {
          "output_type": "execute_result",
          "data": {
            "text/html": [
              "<div>\n",
              "<style scoped>\n",
              "    .dataframe tbody tr th:only-of-type {\n",
              "        vertical-align: middle;\n",
              "    }\n",
              "\n",
              "    .dataframe tbody tr th {\n",
              "        vertical-align: top;\n",
              "    }\n",
              "\n",
              "    .dataframe thead th {\n",
              "        text-align: right;\n",
              "    }\n",
              "</style>\n",
              "<table border=\"1\" class=\"dataframe\">\n",
              "  <thead>\n",
              "    <tr style=\"text-align: right;\">\n",
              "      <th></th>\n",
              "      <th>userId</th>\n",
              "      <th>movieId</th>\n",
              "      <th>rating</th>\n",
              "      <th>timestamp</th>\n",
              "      <th>title</th>\n",
              "      <th>genres</th>\n",
              "    </tr>\n",
              "  </thead>\n",
              "  <tbody>\n",
              "    <tr>\n",
              "      <th>0</th>\n",
              "      <td>1</td>\n",
              "      <td>1196</td>\n",
              "      <td>5.0</td>\n",
              "      <td>964981827</td>\n",
              "      <td>Star Wars: Episode V - The Empire Strikes Back...</td>\n",
              "      <td>[Action, Adventure, Sci-Fi]</td>\n",
              "    </tr>\n",
              "    <tr>\n",
              "      <th>1</th>\n",
              "      <td>1</td>\n",
              "      <td>6</td>\n",
              "      <td>4.0</td>\n",
              "      <td>964982224</td>\n",
              "      <td>Heat (1995)</td>\n",
              "      <td>[Action, Crime, Thriller]</td>\n",
              "    </tr>\n",
              "    <tr>\n",
              "      <th>2</th>\n",
              "      <td>1</td>\n",
              "      <td>3702</td>\n",
              "      <td>5.0</td>\n",
              "      <td>964983737</td>\n",
              "      <td>Mad Max (1979)</td>\n",
              "      <td>[Action, Adventure, Sci-Fi]</td>\n",
              "    </tr>\n",
              "    <tr>\n",
              "      <th>3</th>\n",
              "      <td>1</td>\n",
              "      <td>2478</td>\n",
              "      <td>4.0</td>\n",
              "      <td>964984169</td>\n",
              "      <td>¡Three Amigos! (1986)</td>\n",
              "      <td>[Comedy, Western]</td>\n",
              "    </tr>\n",
              "    <tr>\n",
              "      <th>4</th>\n",
              "      <td>1</td>\n",
              "      <td>1025</td>\n",
              "      <td>5.0</td>\n",
              "      <td>964982791</td>\n",
              "      <td>Sword in the Stone, The (1963)</td>\n",
              "      <td>[Animation, Children, Fantasy, Musical]</td>\n",
              "    </tr>\n",
              "  </tbody>\n",
              "</table>\n",
              "</div>"
            ],
            "text/plain": [
              "   userId  ...                                   genres\n",
              "0       1  ...              [Action, Adventure, Sci-Fi]\n",
              "1       1  ...                [Action, Crime, Thriller]\n",
              "2       1  ...              [Action, Adventure, Sci-Fi]\n",
              "3       1  ...                        [Comedy, Western]\n",
              "4       1  ...  [Animation, Children, Fantasy, Musical]\n",
              "\n",
              "[5 rows x 6 columns]"
            ]
          },
          "metadata": {
            "tags": []
          },
          "execution_count": 124
        }
      ]
    },
    {
      "cell_type": "code",
      "metadata": {
        "id": "5uI8GfSDNdVd",
        "outputId": "f2fdf380-da02-4dc5-f4e6-3ff6ca17560b",
        "colab": {
          "base_uri": "https://localhost:8080/",
          "height": 34
        }
      },
      "source": [
        "# Checking the shape of the dataset to see the shape. \n",
        "\n",
        "content_based_movie_data.shape "
      ],
      "execution_count": null,
      "outputs": [
        {
          "output_type": "execute_result",
          "data": {
            "text/plain": [
              "(93812, 6)"
            ]
          },
          "metadata": {
            "tags": []
          },
          "execution_count": 125
        }
      ]
    },
    {
      "cell_type": "markdown",
      "metadata": {
        "id": "3pNUJEGBMQeZ"
      },
      "source": [
        "As seen above, the dataset contains NaN values above, we will remove these NaN values as they have no predicting power "
      ]
    },
    {
      "cell_type": "code",
      "metadata": {
        "id": "F2QPtFF_MawJ",
        "outputId": "373e706d-f8c3-4373-c2c6-75ec13483672",
        "colab": {
          "base_uri": "https://localhost:8080/",
          "height": 204
        }
      },
      "source": [
        "#Creating a new variable to store data after dropping the nan values \n",
        "\n",
        "after_Dropna = content_based_movie_data.dropna()\n",
        "after_Dropna.head()"
      ],
      "execution_count": null,
      "outputs": [
        {
          "output_type": "execute_result",
          "data": {
            "text/html": [
              "<div>\n",
              "<style scoped>\n",
              "    .dataframe tbody tr th:only-of-type {\n",
              "        vertical-align: middle;\n",
              "    }\n",
              "\n",
              "    .dataframe tbody tr th {\n",
              "        vertical-align: top;\n",
              "    }\n",
              "\n",
              "    .dataframe thead th {\n",
              "        text-align: right;\n",
              "    }\n",
              "</style>\n",
              "<table border=\"1\" class=\"dataframe\">\n",
              "  <thead>\n",
              "    <tr style=\"text-align: right;\">\n",
              "      <th></th>\n",
              "      <th>userId</th>\n",
              "      <th>movieId</th>\n",
              "      <th>rating</th>\n",
              "      <th>timestamp</th>\n",
              "      <th>title</th>\n",
              "      <th>genres</th>\n",
              "    </tr>\n",
              "  </thead>\n",
              "  <tbody>\n",
              "    <tr>\n",
              "      <th>0</th>\n",
              "      <td>1</td>\n",
              "      <td>1196</td>\n",
              "      <td>5.0</td>\n",
              "      <td>964981827</td>\n",
              "      <td>Star Wars: Episode V - The Empire Strikes Back...</td>\n",
              "      <td>[Action, Adventure, Sci-Fi]</td>\n",
              "    </tr>\n",
              "    <tr>\n",
              "      <th>1</th>\n",
              "      <td>1</td>\n",
              "      <td>6</td>\n",
              "      <td>4.0</td>\n",
              "      <td>964982224</td>\n",
              "      <td>Heat (1995)</td>\n",
              "      <td>[Action, Crime, Thriller]</td>\n",
              "    </tr>\n",
              "    <tr>\n",
              "      <th>2</th>\n",
              "      <td>1</td>\n",
              "      <td>3702</td>\n",
              "      <td>5.0</td>\n",
              "      <td>964983737</td>\n",
              "      <td>Mad Max (1979)</td>\n",
              "      <td>[Action, Adventure, Sci-Fi]</td>\n",
              "    </tr>\n",
              "    <tr>\n",
              "      <th>3</th>\n",
              "      <td>1</td>\n",
              "      <td>2478</td>\n",
              "      <td>4.0</td>\n",
              "      <td>964984169</td>\n",
              "      <td>¡Three Amigos! (1986)</td>\n",
              "      <td>[Comedy, Western]</td>\n",
              "    </tr>\n",
              "    <tr>\n",
              "      <th>4</th>\n",
              "      <td>1</td>\n",
              "      <td>1025</td>\n",
              "      <td>5.0</td>\n",
              "      <td>964982791</td>\n",
              "      <td>Sword in the Stone, The (1963)</td>\n",
              "      <td>[Animation, Children, Fantasy, Musical]</td>\n",
              "    </tr>\n",
              "  </tbody>\n",
              "</table>\n",
              "</div>"
            ],
            "text/plain": [
              "   userId  ...                                   genres\n",
              "0       1  ...              [Action, Adventure, Sci-Fi]\n",
              "1       1  ...                [Action, Crime, Thriller]\n",
              "2       1  ...              [Action, Adventure, Sci-Fi]\n",
              "3       1  ...                        [Comedy, Western]\n",
              "4       1  ...  [Animation, Children, Fantasy, Musical]\n",
              "\n",
              "[5 rows x 6 columns]"
            ]
          },
          "metadata": {
            "tags": []
          },
          "execution_count": 126
        }
      ]
    },
    {
      "cell_type": "code",
      "metadata": {
        "id": "oSEsE07rNu7i",
        "outputId": "38080de9-f915-4ee7-d5fc-5a47311da15c",
        "colab": {
          "base_uri": "https://localhost:8080/",
          "height": 34
        }
      },
      "source": [
        "#Double-checking the dataset to see if the NaN values are removed from the dataset \n",
        "\n",
        "after_Dropna.shape "
      ],
      "execution_count": null,
      "outputs": [
        {
          "output_type": "execute_result",
          "data": {
            "text/plain": [
              "(93812, 6)"
            ]
          },
          "metadata": {
            "tags": []
          },
          "execution_count": 127
        }
      ]
    },
    {
      "cell_type": "markdown",
      "metadata": {
        "id": "m-Gkl5hORyik"
      },
      "source": [
        "As seen above, after removing the NaN values from our dataset, the data has reduced from 16122 to 3875. We will be using this as our final data for modelling "
      ]
    },
    {
      "cell_type": "markdown",
      "metadata": {
        "id": "hwYVHNJeScJL"
      },
      "source": [
        "Now let us explore further the the number of rating recieved for each movieID, this will give a list of top 10 movies in our dataset based on user ranking, the user ranking will be a good measure to see this as we have set a minimum threshold of 0.5% for user. "
      ]
    },
    {
      "cell_type": "code",
      "metadata": {
        "id": "rhddskJ5OJKz",
        "outputId": "d3fd0a16-7cee-455e-b076-8b7c04f85327",
        "colab": {
          "base_uri": "https://localhost:8080/",
          "height": 204
        }
      },
      "source": [
        "# Looking at total rating recieved by movies\n",
        "movie_freq = pd.DataFrame(after_Dropna.groupby('movieId').count()['rating']).reset_index()\n",
        "movie_freq.head()"
      ],
      "execution_count": null,
      "outputs": [
        {
          "output_type": "execute_result",
          "data": {
            "text/html": [
              "<div>\n",
              "<style scoped>\n",
              "    .dataframe tbody tr th:only-of-type {\n",
              "        vertical-align: middle;\n",
              "    }\n",
              "\n",
              "    .dataframe tbody tr th {\n",
              "        vertical-align: top;\n",
              "    }\n",
              "\n",
              "    .dataframe thead th {\n",
              "        text-align: right;\n",
              "    }\n",
              "</style>\n",
              "<table border=\"1\" class=\"dataframe\">\n",
              "  <thead>\n",
              "    <tr style=\"text-align: right;\">\n",
              "      <th></th>\n",
              "      <th>movieId</th>\n",
              "      <th>rating</th>\n",
              "    </tr>\n",
              "  </thead>\n",
              "  <tbody>\n",
              "    <tr>\n",
              "      <th>0</th>\n",
              "      <td>1</td>\n",
              "      <td>175</td>\n",
              "    </tr>\n",
              "    <tr>\n",
              "      <th>1</th>\n",
              "      <td>2</td>\n",
              "      <td>103</td>\n",
              "    </tr>\n",
              "    <tr>\n",
              "      <th>2</th>\n",
              "      <td>3</td>\n",
              "      <td>43</td>\n",
              "    </tr>\n",
              "    <tr>\n",
              "      <th>3</th>\n",
              "      <td>4</td>\n",
              "      <td>5</td>\n",
              "    </tr>\n",
              "    <tr>\n",
              "      <th>4</th>\n",
              "      <td>5</td>\n",
              "      <td>36</td>\n",
              "    </tr>\n",
              "  </tbody>\n",
              "</table>\n",
              "</div>"
            ],
            "text/plain": [
              "   movieId  rating\n",
              "0        1     175\n",
              "1        2     103\n",
              "2        3      43\n",
              "3        4       5\n",
              "4        5      36"
            ]
          },
          "metadata": {
            "tags": []
          },
          "execution_count": 128
        }
      ]
    },
    {
      "cell_type": "code",
      "metadata": {
        "id": "raq2x-OOOI8-",
        "outputId": "7f077ee6-e2a2-44a5-fd29-aeaab9061af6",
        "colab": {
          "base_uri": "https://localhost:8080/",
          "height": 204
        }
      },
      "source": [
        "# Let us merge the number of ratings back to the original dataframe 'after.dropna'\n",
        "content_based_movie_afterna_aftermoviefreq = pd.merge(left=after_Dropna, right=movie_freq, on='movieId')\n",
        "content_based_movie_afterna_aftermoviefreq.head()"
      ],
      "execution_count": null,
      "outputs": [
        {
          "output_type": "execute_result",
          "data": {
            "text/html": [
              "<div>\n",
              "<style scoped>\n",
              "    .dataframe tbody tr th:only-of-type {\n",
              "        vertical-align: middle;\n",
              "    }\n",
              "\n",
              "    .dataframe tbody tr th {\n",
              "        vertical-align: top;\n",
              "    }\n",
              "\n",
              "    .dataframe thead th {\n",
              "        text-align: right;\n",
              "    }\n",
              "</style>\n",
              "<table border=\"1\" class=\"dataframe\">\n",
              "  <thead>\n",
              "    <tr style=\"text-align: right;\">\n",
              "      <th></th>\n",
              "      <th>userId</th>\n",
              "      <th>movieId</th>\n",
              "      <th>rating_x</th>\n",
              "      <th>timestamp</th>\n",
              "      <th>title</th>\n",
              "      <th>genres</th>\n",
              "      <th>rating_y</th>\n",
              "    </tr>\n",
              "  </thead>\n",
              "  <tbody>\n",
              "    <tr>\n",
              "      <th>0</th>\n",
              "      <td>1</td>\n",
              "      <td>1196</td>\n",
              "      <td>5.0</td>\n",
              "      <td>964981827</td>\n",
              "      <td>Star Wars: Episode V - The Empire Strikes Back...</td>\n",
              "      <td>[Action, Adventure, Sci-Fi]</td>\n",
              "      <td>186</td>\n",
              "    </tr>\n",
              "    <tr>\n",
              "      <th>1</th>\n",
              "      <td>4</td>\n",
              "      <td>1196</td>\n",
              "      <td>5.0</td>\n",
              "      <td>964538763</td>\n",
              "      <td>Star Wars: Episode V - The Empire Strikes Back...</td>\n",
              "      <td>[Action, Adventure, Sci-Fi]</td>\n",
              "      <td>186</td>\n",
              "    </tr>\n",
              "    <tr>\n",
              "      <th>2</th>\n",
              "      <td>7</td>\n",
              "      <td>1196</td>\n",
              "      <td>4.0</td>\n",
              "      <td>1106635996</td>\n",
              "      <td>Star Wars: Episode V - The Empire Strikes Back...</td>\n",
              "      <td>[Action, Adventure, Sci-Fi]</td>\n",
              "      <td>186</td>\n",
              "    </tr>\n",
              "    <tr>\n",
              "      <th>3</th>\n",
              "      <td>15</td>\n",
              "      <td>1196</td>\n",
              "      <td>5.0</td>\n",
              "      <td>1510572645</td>\n",
              "      <td>Star Wars: Episode V - The Empire Strikes Back...</td>\n",
              "      <td>[Action, Adventure, Sci-Fi]</td>\n",
              "      <td>186</td>\n",
              "    </tr>\n",
              "    <tr>\n",
              "      <th>4</th>\n",
              "      <td>16</td>\n",
              "      <td>1196</td>\n",
              "      <td>3.0</td>\n",
              "      <td>1377476993</td>\n",
              "      <td>Star Wars: Episode V - The Empire Strikes Back...</td>\n",
              "      <td>[Action, Adventure, Sci-Fi]</td>\n",
              "      <td>186</td>\n",
              "    </tr>\n",
              "  </tbody>\n",
              "</table>\n",
              "</div>"
            ],
            "text/plain": [
              "   userId  movieId  ...                       genres  rating_y\n",
              "0       1     1196  ...  [Action, Adventure, Sci-Fi]       186\n",
              "1       4     1196  ...  [Action, Adventure, Sci-Fi]       186\n",
              "2       7     1196  ...  [Action, Adventure, Sci-Fi]       186\n",
              "3      15     1196  ...  [Action, Adventure, Sci-Fi]       186\n",
              "4      16     1196  ...  [Action, Adventure, Sci-Fi]       186\n",
              "\n",
              "[5 rows x 7 columns]"
            ]
          },
          "metadata": {
            "tags": []
          },
          "execution_count": 129
        }
      ]
    },
    {
      "cell_type": "code",
      "metadata": {
        "id": "UklzPFBLOIuF",
        "outputId": "b0a7b3f6-50b2-4e3a-99f2-b5dd5dfca198",
        "colab": {
          "base_uri": "https://localhost:8080/",
          "height": 204
        }
      },
      "source": [
        "# Let us rename the columns \n",
        "content_based_movie_afterna_aftermoviefreq.rename(columns={'rating_x': 'rating', 'rating_y': 'numRatings'}, inplace=True)\n",
        "content_based_movie_afterna_aftermoviefreq.head()"
      ],
      "execution_count": null,
      "outputs": [
        {
          "output_type": "execute_result",
          "data": {
            "text/html": [
              "<div>\n",
              "<style scoped>\n",
              "    .dataframe tbody tr th:only-of-type {\n",
              "        vertical-align: middle;\n",
              "    }\n",
              "\n",
              "    .dataframe tbody tr th {\n",
              "        vertical-align: top;\n",
              "    }\n",
              "\n",
              "    .dataframe thead th {\n",
              "        text-align: right;\n",
              "    }\n",
              "</style>\n",
              "<table border=\"1\" class=\"dataframe\">\n",
              "  <thead>\n",
              "    <tr style=\"text-align: right;\">\n",
              "      <th></th>\n",
              "      <th>userId</th>\n",
              "      <th>movieId</th>\n",
              "      <th>rating</th>\n",
              "      <th>timestamp</th>\n",
              "      <th>title</th>\n",
              "      <th>genres</th>\n",
              "      <th>numRatings</th>\n",
              "    </tr>\n",
              "  </thead>\n",
              "  <tbody>\n",
              "    <tr>\n",
              "      <th>0</th>\n",
              "      <td>1</td>\n",
              "      <td>1196</td>\n",
              "      <td>5.0</td>\n",
              "      <td>964981827</td>\n",
              "      <td>Star Wars: Episode V - The Empire Strikes Back...</td>\n",
              "      <td>[Action, Adventure, Sci-Fi]</td>\n",
              "      <td>186</td>\n",
              "    </tr>\n",
              "    <tr>\n",
              "      <th>1</th>\n",
              "      <td>4</td>\n",
              "      <td>1196</td>\n",
              "      <td>5.0</td>\n",
              "      <td>964538763</td>\n",
              "      <td>Star Wars: Episode V - The Empire Strikes Back...</td>\n",
              "      <td>[Action, Adventure, Sci-Fi]</td>\n",
              "      <td>186</td>\n",
              "    </tr>\n",
              "    <tr>\n",
              "      <th>2</th>\n",
              "      <td>7</td>\n",
              "      <td>1196</td>\n",
              "      <td>4.0</td>\n",
              "      <td>1106635996</td>\n",
              "      <td>Star Wars: Episode V - The Empire Strikes Back...</td>\n",
              "      <td>[Action, Adventure, Sci-Fi]</td>\n",
              "      <td>186</td>\n",
              "    </tr>\n",
              "    <tr>\n",
              "      <th>3</th>\n",
              "      <td>15</td>\n",
              "      <td>1196</td>\n",
              "      <td>5.0</td>\n",
              "      <td>1510572645</td>\n",
              "      <td>Star Wars: Episode V - The Empire Strikes Back...</td>\n",
              "      <td>[Action, Adventure, Sci-Fi]</td>\n",
              "      <td>186</td>\n",
              "    </tr>\n",
              "    <tr>\n",
              "      <th>4</th>\n",
              "      <td>16</td>\n",
              "      <td>1196</td>\n",
              "      <td>3.0</td>\n",
              "      <td>1377476993</td>\n",
              "      <td>Star Wars: Episode V - The Empire Strikes Back...</td>\n",
              "      <td>[Action, Adventure, Sci-Fi]</td>\n",
              "      <td>186</td>\n",
              "    </tr>\n",
              "  </tbody>\n",
              "</table>\n",
              "</div>"
            ],
            "text/plain": [
              "   userId  movieId  ...                       genres  numRatings\n",
              "0       1     1196  ...  [Action, Adventure, Sci-Fi]         186\n",
              "1       4     1196  ...  [Action, Adventure, Sci-Fi]         186\n",
              "2       7     1196  ...  [Action, Adventure, Sci-Fi]         186\n",
              "3      15     1196  ...  [Action, Adventure, Sci-Fi]         186\n",
              "4      16     1196  ...  [Action, Adventure, Sci-Fi]         186\n",
              "\n",
              "[5 rows x 7 columns]"
            ]
          },
          "metadata": {
            "tags": []
          },
          "execution_count": 130
        }
      ]
    },
    {
      "cell_type": "code",
      "metadata": {
        "id": "xDmIV7b6OIfB",
        "outputId": "8d1f1998-a3ce-42e5-fe17-529058419043",
        "colab": {
          "base_uri": "https://localhost:8080/",
          "height": 34
        }
      },
      "source": [
        "content_based_movie_afterna_aftermoviefreq.shape"
      ],
      "execution_count": null,
      "outputs": [
        {
          "output_type": "execute_result",
          "data": {
            "text/plain": [
              "(93812, 7)"
            ]
          },
          "metadata": {
            "tags": []
          },
          "execution_count": 131
        }
      ]
    },
    {
      "cell_type": "code",
      "metadata": {
        "id": "ThZ9GghEOINb",
        "outputId": "23caba23-d3d8-4666-b730-0ce3c70b185f",
        "colab": {
          "base_uri": "https://localhost:8080/",
          "height": 359
        }
      },
      "source": [
        "#Let us view the top 10 movies based on number of ratings \n",
        "\n",
        "content_based_movie_afterna_aftermoviefreq.sort_values(by='numRatings', ascending=False).drop_duplicates('movieId')[:10]"
      ],
      "execution_count": null,
      "outputs": [
        {
          "output_type": "execute_result",
          "data": {
            "text/html": [
              "<div>\n",
              "<style scoped>\n",
              "    .dataframe tbody tr th:only-of-type {\n",
              "        vertical-align: middle;\n",
              "    }\n",
              "\n",
              "    .dataframe tbody tr th {\n",
              "        vertical-align: top;\n",
              "    }\n",
              "\n",
              "    .dataframe thead th {\n",
              "        text-align: right;\n",
              "    }\n",
              "</style>\n",
              "<table border=\"1\" class=\"dataframe\">\n",
              "  <thead>\n",
              "    <tr style=\"text-align: right;\">\n",
              "      <th></th>\n",
              "      <th>userId</th>\n",
              "      <th>movieId</th>\n",
              "      <th>rating</th>\n",
              "      <th>timestamp</th>\n",
              "      <th>title</th>\n",
              "      <th>genres</th>\n",
              "      <th>numRatings</th>\n",
              "    </tr>\n",
              "  </thead>\n",
              "  <tbody>\n",
              "    <tr>\n",
              "      <th>6149</th>\n",
              "      <td>6</td>\n",
              "      <td>356</td>\n",
              "      <td>5.0</td>\n",
              "      <td>845553200</td>\n",
              "      <td>Forrest Gump (1994)</td>\n",
              "      <td>[Comedy, Drama, Romance, War]</td>\n",
              "      <td>263</td>\n",
              "    </tr>\n",
              "    <tr>\n",
              "      <th>4547</th>\n",
              "      <td>292</td>\n",
              "      <td>296</td>\n",
              "      <td>3.0</td>\n",
              "      <td>990062598</td>\n",
              "      <td>Pulp Fiction (1994)</td>\n",
              "      <td>[Comedy, Crime, Drama, Thriller]</td>\n",
              "      <td>244</td>\n",
              "    </tr>\n",
              "    <tr>\n",
              "      <th>20584</th>\n",
              "      <td>215</td>\n",
              "      <td>318</td>\n",
              "      <td>5.0</td>\n",
              "      <td>1260908625</td>\n",
              "      <td>Shawshank Redemption, The (1994)</td>\n",
              "      <td>[Crime, Drama]</td>\n",
              "      <td>235</td>\n",
              "    </tr>\n",
              "    <tr>\n",
              "      <th>2835</th>\n",
              "      <td>532</td>\n",
              "      <td>2571</td>\n",
              "      <td>5.0</td>\n",
              "      <td>1025523745</td>\n",
              "      <td>Matrix, The (1999)</td>\n",
              "      <td>[Action, Sci-Fi, Thriller]</td>\n",
              "      <td>229</td>\n",
              "    </tr>\n",
              "    <tr>\n",
              "      <th>8786</th>\n",
              "      <td>602</td>\n",
              "      <td>593</td>\n",
              "      <td>5.0</td>\n",
              "      <td>840875558</td>\n",
              "      <td>Silence of the Lambs, The (1991)</td>\n",
              "      <td>[Crime, Horror, Thriller]</td>\n",
              "      <td>222</td>\n",
              "    </tr>\n",
              "    <tr>\n",
              "      <th>10493</th>\n",
              "      <td>17</td>\n",
              "      <td>260</td>\n",
              "      <td>5.0</td>\n",
              "      <td>1305696468</td>\n",
              "      <td>Star Wars: Episode IV - A New Hope (1977)</td>\n",
              "      <td>[Action, Adventure, Sci-Fi]</td>\n",
              "      <td>210</td>\n",
              "    </tr>\n",
              "    <tr>\n",
              "      <th>10012</th>\n",
              "      <td>57</td>\n",
              "      <td>480</td>\n",
              "      <td>5.0</td>\n",
              "      <td>965798332</td>\n",
              "      <td>Jurassic Park (1993)</td>\n",
              "      <td>[Action, Adventure, Sci-Fi, Thriller]</td>\n",
              "      <td>202</td>\n",
              "    </tr>\n",
              "    <tr>\n",
              "      <th>0</th>\n",
              "      <td>1</td>\n",
              "      <td>1196</td>\n",
              "      <td>5.0</td>\n",
              "      <td>964981827</td>\n",
              "      <td>Star Wars: Episode V - The Empire Strikes Back...</td>\n",
              "      <td>[Action, Adventure, Sci-Fi]</td>\n",
              "      <td>186</td>\n",
              "    </tr>\n",
              "    <tr>\n",
              "      <th>7484</th>\n",
              "      <td>264</td>\n",
              "      <td>110</td>\n",
              "      <td>2.5</td>\n",
              "      <td>1136978677</td>\n",
              "      <td>Braveheart (1995)</td>\n",
              "      <td>[Action, Drama, War]</td>\n",
              "      <td>185</td>\n",
              "    </tr>\n",
              "    <tr>\n",
              "      <th>12202</th>\n",
              "      <td>144</td>\n",
              "      <td>2959</td>\n",
              "      <td>4.0</td>\n",
              "      <td>1136812146</td>\n",
              "      <td>Fight Club (1999)</td>\n",
              "      <td>[Action, Crime, Drama, Thriller]</td>\n",
              "      <td>185</td>\n",
              "    </tr>\n",
              "  </tbody>\n",
              "</table>\n",
              "</div>"
            ],
            "text/plain": [
              "       userId  movieId  ...                                 genres  numRatings\n",
              "6149        6      356  ...          [Comedy, Drama, Romance, War]         263\n",
              "4547      292      296  ...       [Comedy, Crime, Drama, Thriller]         244\n",
              "20584     215      318  ...                         [Crime, Drama]         235\n",
              "2835      532     2571  ...             [Action, Sci-Fi, Thriller]         229\n",
              "8786      602      593  ...              [Crime, Horror, Thriller]         222\n",
              "10493      17      260  ...            [Action, Adventure, Sci-Fi]         210\n",
              "10012      57      480  ...  [Action, Adventure, Sci-Fi, Thriller]         202\n",
              "0           1     1196  ...            [Action, Adventure, Sci-Fi]         186\n",
              "7484      264      110  ...                   [Action, Drama, War]         185\n",
              "12202     144     2959  ...       [Action, Crime, Drama, Thriller]         185\n",
              "\n",
              "[10 rows x 7 columns]"
            ]
          },
          "metadata": {
            "tags": []
          },
          "execution_count": 132
        }
      ]
    },
    {
      "cell_type": "code",
      "metadata": {
        "id": "Fnvrj1V3ahCP",
        "outputId": "85c512ee-e3ad-4159-e651-73d9820de395",
        "colab": {
          "base_uri": "https://localhost:8080/",
          "height": 359
        }
      },
      "source": [
        "#Let us view the bottom 10 movies based on number of ratings \n",
        "\n",
        "content_based_movie_afterna_aftermoviefreq.sort_values(by='numRatings', ascending=True).drop_duplicates('movieId')[:10]"
      ],
      "execution_count": null,
      "outputs": [
        {
          "output_type": "execute_result",
          "data": {
            "text/html": [
              "<div>\n",
              "<style scoped>\n",
              "    .dataframe tbody tr th:only-of-type {\n",
              "        vertical-align: middle;\n",
              "    }\n",
              "\n",
              "    .dataframe tbody tr th {\n",
              "        vertical-align: top;\n",
              "    }\n",
              "\n",
              "    .dataframe thead th {\n",
              "        text-align: right;\n",
              "    }\n",
              "</style>\n",
              "<table border=\"1\" class=\"dataframe\">\n",
              "  <thead>\n",
              "    <tr style=\"text-align: right;\">\n",
              "      <th></th>\n",
              "      <th>userId</th>\n",
              "      <th>movieId</th>\n",
              "      <th>rating</th>\n",
              "      <th>timestamp</th>\n",
              "      <th>title</th>\n",
              "      <th>genres</th>\n",
              "      <th>numRatings</th>\n",
              "    </tr>\n",
              "  </thead>\n",
              "  <tbody>\n",
              "    <tr>\n",
              "      <th>93811</th>\n",
              "      <td>610</td>\n",
              "      <td>80162</td>\n",
              "      <td>2.5</td>\n",
              "      <td>1493848937</td>\n",
              "      <td>Horde, The (La Horde) (2009)</td>\n",
              "      <td>[Action, Horror, Thriller]</td>\n",
              "      <td>1</td>\n",
              "    </tr>\n",
              "    <tr>\n",
              "      <th>90307</th>\n",
              "      <td>367</td>\n",
              "      <td>4078</td>\n",
              "      <td>4.0</td>\n",
              "      <td>997813382</td>\n",
              "      <td>Amazing Grace and Chuck (1987)</td>\n",
              "      <td>[Drama]</td>\n",
              "      <td>1</td>\n",
              "    </tr>\n",
              "    <tr>\n",
              "      <th>90296</th>\n",
              "      <td>365</td>\n",
              "      <td>114494</td>\n",
              "      <td>1.5</td>\n",
              "      <td>1489016511</td>\n",
              "      <td>Who Am I (Kein System Ist Sicher) (2014)</td>\n",
              "      <td>[Thriller]</td>\n",
              "      <td>1</td>\n",
              "    </tr>\n",
              "    <tr>\n",
              "      <th>90295</th>\n",
              "      <td>365</td>\n",
              "      <td>145935</td>\n",
              "      <td>1.5</td>\n",
              "      <td>1489796981</td>\n",
              "      <td>Peanuts Movie, The (2015)</td>\n",
              "      <td>[Adventure, Animation, Children, Comedy]</td>\n",
              "      <td>1</td>\n",
              "    </tr>\n",
              "    <tr>\n",
              "      <th>90294</th>\n",
              "      <td>365</td>\n",
              "      <td>113604</td>\n",
              "      <td>2.0</td>\n",
              "      <td>1489796770</td>\n",
              "      <td>If I Stay (2014)</td>\n",
              "      <td>[Drama]</td>\n",
              "      <td>1</td>\n",
              "    </tr>\n",
              "    <tr>\n",
              "      <th>90293</th>\n",
              "      <td>365</td>\n",
              "      <td>132888</td>\n",
              "      <td>3.0</td>\n",
              "      <td>1489797059</td>\n",
              "      <td>Comedy Central Roast of James Franco (2013)</td>\n",
              "      <td>[Comedy]</td>\n",
              "      <td>1</td>\n",
              "    </tr>\n",
              "    <tr>\n",
              "      <th>90288</th>\n",
              "      <td>365</td>\n",
              "      <td>96964</td>\n",
              "      <td>1.5</td>\n",
              "      <td>1489796949</td>\n",
              "      <td>Tall Man, The (2012)</td>\n",
              "      <td>[Crime, Drama, Mystery]</td>\n",
              "      <td>1</td>\n",
              "    </tr>\n",
              "    <tr>\n",
              "      <th>90278</th>\n",
              "      <td>359</td>\n",
              "      <td>26472</td>\n",
              "      <td>3.5</td>\n",
              "      <td>1196791636</td>\n",
              "      <td>Norte, El (1984)</td>\n",
              "      <td>[Adventure, Drama]</td>\n",
              "      <td>1</td>\n",
              "    </tr>\n",
              "    <tr>\n",
              "      <th>90267</th>\n",
              "      <td>357</td>\n",
              "      <td>8998</td>\n",
              "      <td>4.0</td>\n",
              "      <td>1348612877</td>\n",
              "      <td>That's Entertainment (1974)</td>\n",
              "      <td>[Documentary]</td>\n",
              "      <td>1</td>\n",
              "    </tr>\n",
              "    <tr>\n",
              "      <th>90266</th>\n",
              "      <td>357</td>\n",
              "      <td>27329</td>\n",
              "      <td>4.0</td>\n",
              "      <td>1348612595</td>\n",
              "      <td>Paradise Lost 2: Revelations (2000)</td>\n",
              "      <td>[Documentary]</td>\n",
              "      <td>1</td>\n",
              "    </tr>\n",
              "  </tbody>\n",
              "</table>\n",
              "</div>"
            ],
            "text/plain": [
              "       userId  movieId  ...                                    genres  numRatings\n",
              "93811     610    80162  ...                [Action, Horror, Thriller]           1\n",
              "90307     367     4078  ...                                   [Drama]           1\n",
              "90296     365   114494  ...                                [Thriller]           1\n",
              "90295     365   145935  ...  [Adventure, Animation, Children, Comedy]           1\n",
              "90294     365   113604  ...                                   [Drama]           1\n",
              "90293     365   132888  ...                                  [Comedy]           1\n",
              "90288     365    96964  ...                   [Crime, Drama, Mystery]           1\n",
              "90278     359    26472  ...                        [Adventure, Drama]           1\n",
              "90267     357     8998  ...                             [Documentary]           1\n",
              "90266     357    27329  ...                             [Documentary]           1\n",
              "\n",
              "[10 rows x 7 columns]"
            ]
          },
          "metadata": {
            "tags": []
          },
          "execution_count": 133
        }
      ]
    },
    {
      "cell_type": "markdown",
      "metadata": {
        "id": "uU2ZQfdqGQAS"
      },
      "source": [
        "The following approch above is not the best, as it does not take into consideration the average rating, it only ranks the movies based on the number of ratings it has recieved, a better approch to this is to use Bayesian Average"
      ]
    },
    {
      "cell_type": "code",
      "metadata": {
        "id": "pg-Z1BGJVCAw"
      },
      "source": [
        "#Extracting final clean dataset from the dataset above\n",
        "\n",
        "final_rating_content_based = content_based_movie_afterna_aftermoviefreq[['userId', 'movieId', 'rating', 'timestamp' ]]\n",
        "\n",
        "final_movie_content_based = content_based_movie_afterna_aftermoviefreq[['title', 'genres', 'numRatings', 'movieId']]\n",
        "\n",
        "final_content_based_filtering = content_based_movie_afterna_aftermoviefreq[['userId', 'movieId', 'rating', 'timestamp', 'title', 'genres']]"
      ],
      "execution_count": null,
      "outputs": []
    },
    {
      "cell_type": "markdown",
      "metadata": {
        "id": "qyvL339QHDIv"
      },
      "source": [
        "# Content Based Filtering Modelling Using KNN "
      ]
    },
    {
      "cell_type": "code",
      "metadata": {
        "id": "ixnLnjyLNOr4"
      },
      "source": [
        "from scipy.sparse import csr_matrix\n",
        "from sklearn.neighbors import NearestNeighbors"
      ],
      "execution_count": null,
      "outputs": []
    },
    {
      "cell_type": "code",
      "metadata": {
        "id": "WVZEJQUxGtWn",
        "outputId": "9c08b6bb-bce6-45ea-982a-5f99887f89d8",
        "colab": {
          "base_uri": "https://localhost:8080/",
          "height": 419
        }
      },
      "source": [
        "#Loading the Clean data for Content Based Filtering\n",
        "\n",
        "final_rating_content_based \n",
        "\n",
        "final_movie_content_based \n",
        "\n",
        "final_content_based_filtering "
      ],
      "execution_count": null,
      "outputs": [
        {
          "output_type": "execute_result",
          "data": {
            "text/html": [
              "<div>\n",
              "<style scoped>\n",
              "    .dataframe tbody tr th:only-of-type {\n",
              "        vertical-align: middle;\n",
              "    }\n",
              "\n",
              "    .dataframe tbody tr th {\n",
              "        vertical-align: top;\n",
              "    }\n",
              "\n",
              "    .dataframe thead th {\n",
              "        text-align: right;\n",
              "    }\n",
              "</style>\n",
              "<table border=\"1\" class=\"dataframe\">\n",
              "  <thead>\n",
              "    <tr style=\"text-align: right;\">\n",
              "      <th></th>\n",
              "      <th>userId</th>\n",
              "      <th>movieId</th>\n",
              "      <th>rating</th>\n",
              "      <th>timestamp</th>\n",
              "      <th>title</th>\n",
              "      <th>genres</th>\n",
              "    </tr>\n",
              "  </thead>\n",
              "  <tbody>\n",
              "    <tr>\n",
              "      <th>0</th>\n",
              "      <td>1</td>\n",
              "      <td>1196</td>\n",
              "      <td>5.0</td>\n",
              "      <td>964981827</td>\n",
              "      <td>Star Wars: Episode V - The Empire Strikes Back...</td>\n",
              "      <td>[Action, Adventure, Sci-Fi]</td>\n",
              "    </tr>\n",
              "    <tr>\n",
              "      <th>1</th>\n",
              "      <td>4</td>\n",
              "      <td>1196</td>\n",
              "      <td>5.0</td>\n",
              "      <td>964538763</td>\n",
              "      <td>Star Wars: Episode V - The Empire Strikes Back...</td>\n",
              "      <td>[Action, Adventure, Sci-Fi]</td>\n",
              "    </tr>\n",
              "    <tr>\n",
              "      <th>2</th>\n",
              "      <td>7</td>\n",
              "      <td>1196</td>\n",
              "      <td>4.0</td>\n",
              "      <td>1106635996</td>\n",
              "      <td>Star Wars: Episode V - The Empire Strikes Back...</td>\n",
              "      <td>[Action, Adventure, Sci-Fi]</td>\n",
              "    </tr>\n",
              "    <tr>\n",
              "      <th>3</th>\n",
              "      <td>15</td>\n",
              "      <td>1196</td>\n",
              "      <td>5.0</td>\n",
              "      <td>1510572645</td>\n",
              "      <td>Star Wars: Episode V - The Empire Strikes Back...</td>\n",
              "      <td>[Action, Adventure, Sci-Fi]</td>\n",
              "    </tr>\n",
              "    <tr>\n",
              "      <th>4</th>\n",
              "      <td>16</td>\n",
              "      <td>1196</td>\n",
              "      <td>3.0</td>\n",
              "      <td>1377476993</td>\n",
              "      <td>Star Wars: Episode V - The Empire Strikes Back...</td>\n",
              "      <td>[Action, Adventure, Sci-Fi]</td>\n",
              "    </tr>\n",
              "    <tr>\n",
              "      <th>...</th>\n",
              "      <td>...</td>\n",
              "      <td>...</td>\n",
              "      <td>...</td>\n",
              "      <td>...</td>\n",
              "      <td>...</td>\n",
              "      <td>...</td>\n",
              "    </tr>\n",
              "    <tr>\n",
              "      <th>93807</th>\n",
              "      <td>610</td>\n",
              "      <td>75389</td>\n",
              "      <td>3.0</td>\n",
              "      <td>1493848990</td>\n",
              "      <td>Burrowers, The (2008)</td>\n",
              "      <td>[Horror, Thriller, Western]</td>\n",
              "    </tr>\n",
              "    <tr>\n",
              "      <th>93808</th>\n",
              "      <td>610</td>\n",
              "      <td>1054</td>\n",
              "      <td>2.0</td>\n",
              "      <td>1493850563</td>\n",
              "      <td>Get on the Bus (1996)</td>\n",
              "      <td>[Drama]</td>\n",
              "    </tr>\n",
              "    <tr>\n",
              "      <th>93809</th>\n",
              "      <td>610</td>\n",
              "      <td>66310</td>\n",
              "      <td>3.5</td>\n",
              "      <td>1493848780</td>\n",
              "      <td>Frontière(s) (2007)</td>\n",
              "      <td>[Drama, Horror, Thriller]</td>\n",
              "    </tr>\n",
              "    <tr>\n",
              "      <th>93810</th>\n",
              "      <td>610</td>\n",
              "      <td>27426</td>\n",
              "      <td>2.5</td>\n",
              "      <td>1479542394</td>\n",
              "      <td>Accidental Spy, The (Dak miu mai shing) (2001)</td>\n",
              "      <td>[Action, Comedy, Thriller]</td>\n",
              "    </tr>\n",
              "    <tr>\n",
              "      <th>93811</th>\n",
              "      <td>610</td>\n",
              "      <td>80162</td>\n",
              "      <td>2.5</td>\n",
              "      <td>1493848937</td>\n",
              "      <td>Horde, The (La Horde) (2009)</td>\n",
              "      <td>[Action, Horror, Thriller]</td>\n",
              "    </tr>\n",
              "  </tbody>\n",
              "</table>\n",
              "<p>93812 rows × 6 columns</p>\n",
              "</div>"
            ],
            "text/plain": [
              "       userId  ...                       genres\n",
              "0           1  ...  [Action, Adventure, Sci-Fi]\n",
              "1           4  ...  [Action, Adventure, Sci-Fi]\n",
              "2           7  ...  [Action, Adventure, Sci-Fi]\n",
              "3          15  ...  [Action, Adventure, Sci-Fi]\n",
              "4          16  ...  [Action, Adventure, Sci-Fi]\n",
              "...       ...  ...                          ...\n",
              "93807     610  ...  [Horror, Thriller, Western]\n",
              "93808     610  ...                      [Drama]\n",
              "93809     610  ...    [Drama, Horror, Thriller]\n",
              "93810     610  ...   [Action, Comedy, Thriller]\n",
              "93811     610  ...   [Action, Horror, Thriller]\n",
              "\n",
              "[93812 rows x 6 columns]"
            ]
          },
          "metadata": {
            "tags": []
          },
          "execution_count": 136
        }
      ]
    },
    {
      "cell_type": "markdown",
      "metadata": {
        "id": "R_PNsHFCHA5J"
      },
      "source": [
        "Bayesian Average is defined as:\n",
        "\n",
        "$r_{i} = \\frac{C \\times m + \\Sigma{\\text{reviews}}}{C+N}$\n",
        "\n",
        "where $C$ represents our confidence, $m$ represents our prior, and $N$ is the total number of reviews for movie $i$. In this case, our prior will be the average rating across all movies. By defintion, C represents \"the typical dataset size\". Let's make $C$ be the average number of ratings for a given movie."
      ]
    },
    {
      "cell_type": "code",
      "metadata": {
        "id": "0KYChes8HB62"
      },
      "source": [
        "#Let us understand the popularity of the movie using Bayesian Average\n",
        "\n",
        "movie_stats = final_rating_content_based.groupby('movieId')[['rating']].agg(['count', 'mean'])\n",
        "movie_stats.columns = movie_stats.columns.droplevel()"
      ],
      "execution_count": null,
      "outputs": []
    },
    {
      "cell_type": "code",
      "metadata": {
        "id": "UcQ01BT0HZnZ"
      },
      "source": [
        "C = movie_stats['count'].mean()\n",
        "m = movie_stats['mean'].mean()\n",
        "\n",
        "def bayesian_avg(final_rating_content_based):\n",
        "    bayesian_avg = (C*m+final_rating_content_based.sum())/(C+final_rating_content_based.count())\n",
        "    return bayesian_avg\n",
        "\n",
        "bayesian_avg_ratings = final_rating_content_based.groupby('movieId')['rating'].agg(bayesian_avg).reset_index()\n",
        "bayesian_avg_ratings.columns = ['movieId', 'bayesian_avg']\n",
        "movie_stats = movie_stats.merge(bayesian_avg_ratings, on='movieId')"
      ],
      "execution_count": null,
      "outputs": []
    },
    {
      "cell_type": "code",
      "metadata": {
        "id": "Jr8qZz25HiCd",
        "outputId": "7f48db7e-2e5d-4054-aedb-4c64969070fb",
        "colab": {
          "base_uri": "https://localhost:8080/",
          "height": 359
        }
      },
      "source": [
        "# Top 10 Moives based on Bayesian Average \n",
        "\n",
        "movie_stats = movie_stats.merge(final_movie_content_based[['movieId', 'title']])\n",
        "movie_stats.sort_values('bayesian_avg', ascending=False).drop_duplicates('movieId')[:10]\n"
      ],
      "execution_count": null,
      "outputs": [
        {
          "output_type": "execute_result",
          "data": {
            "text/html": [
              "<div>\n",
              "<style scoped>\n",
              "    .dataframe tbody tr th:only-of-type {\n",
              "        vertical-align: middle;\n",
              "    }\n",
              "\n",
              "    .dataframe tbody tr th {\n",
              "        vertical-align: top;\n",
              "    }\n",
              "\n",
              "    .dataframe thead th {\n",
              "        text-align: right;\n",
              "    }\n",
              "</style>\n",
              "<table border=\"1\" class=\"dataframe\">\n",
              "  <thead>\n",
              "    <tr style=\"text-align: right;\">\n",
              "      <th></th>\n",
              "      <th>movieId</th>\n",
              "      <th>count</th>\n",
              "      <th>mean</th>\n",
              "      <th>bayesian_avg</th>\n",
              "      <th>title</th>\n",
              "    </tr>\n",
              "  </thead>\n",
              "  <tbody>\n",
              "    <tr>\n",
              "      <th>7430</th>\n",
              "      <td>318</td>\n",
              "      <td>235</td>\n",
              "      <td>4.425532</td>\n",
              "      <td>4.379024</td>\n",
              "      <td>Shawshank Redemption, The (1994)</td>\n",
              "    </tr>\n",
              "    <tr>\n",
              "      <th>17214</th>\n",
              "      <td>858</td>\n",
              "      <td>165</td>\n",
              "      <td>4.303030</td>\n",
              "      <td>4.244719</td>\n",
              "      <td>Godfather, The (1972)</td>\n",
              "    </tr>\n",
              "    <tr>\n",
              "      <th>12314</th>\n",
              "      <td>527</td>\n",
              "      <td>168</td>\n",
              "      <td>4.261905</td>\n",
              "      <td>4.206831</td>\n",
              "      <td>Schindler's List (1993)</td>\n",
              "    </tr>\n",
              "    <tr>\n",
              "      <th>45158</th>\n",
              "      <td>2959</td>\n",
              "      <td>185</td>\n",
              "      <td>4.243243</td>\n",
              "      <td>4.193910</td>\n",
              "      <td>Fight Club (1999)</td>\n",
              "    </tr>\n",
              "    <tr>\n",
              "      <th>21718</th>\n",
              "      <td>1197</td>\n",
              "      <td>128</td>\n",
              "      <td>4.257812</td>\n",
              "      <td>4.187034</td>\n",
              "      <td>Princess Bride, The (1987)</td>\n",
              "    </tr>\n",
              "    <tr>\n",
              "      <th>21583</th>\n",
              "      <td>1196</td>\n",
              "      <td>186</td>\n",
              "      <td>4.225806</td>\n",
              "      <td>4.177593</td>\n",
              "      <td>Star Wars: Episode V - The Empire Strikes Back...</td>\n",
              "    </tr>\n",
              "    <tr>\n",
              "      <th>22859</th>\n",
              "      <td>1213</td>\n",
              "      <td>116</td>\n",
              "      <td>4.250000</td>\n",
              "      <td>4.173072</td>\n",
              "      <td>Goodfellas (1990)</td>\n",
              "    </tr>\n",
              "    <tr>\n",
              "      <th>16044</th>\n",
              "      <td>750</td>\n",
              "      <td>92</td>\n",
              "      <td>4.266304</td>\n",
              "      <td>4.169668</td>\n",
              "      <td>Dr. Strangelove or: How I Learned to Stop Worr...</td>\n",
              "    </tr>\n",
              "    <tr>\n",
              "      <th>6945</th>\n",
              "      <td>296</td>\n",
              "      <td>244</td>\n",
              "      <td>4.204918</td>\n",
              "      <td>4.168527</td>\n",
              "      <td>Pulp Fiction (1994)</td>\n",
              "    </tr>\n",
              "    <tr>\n",
              "      <th>6045</th>\n",
              "      <td>260</td>\n",
              "      <td>210</td>\n",
              "      <td>4.209524</td>\n",
              "      <td>4.167298</td>\n",
              "      <td>Star Wars: Episode IV - A New Hope (1977)</td>\n",
              "    </tr>\n",
              "  </tbody>\n",
              "</table>\n",
              "</div>"
            ],
            "text/plain": [
              "       movieId  ...                                              title\n",
              "7430       318  ...                   Shawshank Redemption, The (1994)\n",
              "17214      858  ...                              Godfather, The (1972)\n",
              "12314      527  ...                            Schindler's List (1993)\n",
              "45158     2959  ...                                  Fight Club (1999)\n",
              "21718     1197  ...                         Princess Bride, The (1987)\n",
              "21583     1196  ...  Star Wars: Episode V - The Empire Strikes Back...\n",
              "22859     1213  ...                                  Goodfellas (1990)\n",
              "16044      750  ...  Dr. Strangelove or: How I Learned to Stop Worr...\n",
              "6945       296  ...                                Pulp Fiction (1994)\n",
              "6045       260  ...          Star Wars: Episode IV - A New Hope (1977)\n",
              "\n",
              "[10 rows x 5 columns]"
            ]
          },
          "metadata": {
            "tags": []
          },
          "execution_count": 139
        }
      ]
    },
    {
      "cell_type": "code",
      "metadata": {
        "id": "fJzqOD1fIm1z",
        "outputId": "8aeff11f-33ae-43ad-e96b-58ca4afd352a",
        "colab": {
          "base_uri": "https://localhost:8080/",
          "height": 359
        }
      },
      "source": [
        "# Worst 10 Rated Movies Based on Bayesian Average \n",
        "movie_stats.sort_values('bayesian_avg', ascending=True).drop_duplicates('movieId')[:10]\n"
      ],
      "execution_count": null,
      "outputs": [
        {
          "output_type": "execute_result",
          "data": {
            "text/html": [
              "<div>\n",
              "<style scoped>\n",
              "    .dataframe tbody tr th:only-of-type {\n",
              "        vertical-align: middle;\n",
              "    }\n",
              "\n",
              "    .dataframe tbody tr th {\n",
              "        vertical-align: top;\n",
              "    }\n",
              "\n",
              "    .dataframe thead th {\n",
              "        text-align: right;\n",
              "    }\n",
              "</style>\n",
              "<table border=\"1\" class=\"dataframe\">\n",
              "  <thead>\n",
              "    <tr style=\"text-align: right;\">\n",
              "      <th></th>\n",
              "      <th>movieId</th>\n",
              "      <th>count</th>\n",
              "      <th>mean</th>\n",
              "      <th>bayesian_avg</th>\n",
              "      <th>title</th>\n",
              "    </tr>\n",
              "  </thead>\n",
              "  <tbody>\n",
              "    <tr>\n",
              "      <th>50672</th>\n",
              "      <td>3593</td>\n",
              "      <td>18</td>\n",
              "      <td>1.638889</td>\n",
              "      <td>2.206897</td>\n",
              "      <td>Battlefield Earth (2000)</td>\n",
              "    </tr>\n",
              "    <tr>\n",
              "      <th>29009</th>\n",
              "      <td>1556</td>\n",
              "      <td>18</td>\n",
              "      <td>1.638889</td>\n",
              "      <td>2.206897</td>\n",
              "      <td>Speed 2: Cruise Control (1997)</td>\n",
              "    </tr>\n",
              "    <tr>\n",
              "      <th>32218</th>\n",
              "      <td>1882</td>\n",
              "      <td>31</td>\n",
              "      <td>1.967742</td>\n",
              "      <td>2.275881</td>\n",
              "      <td>Godzilla (1998)</td>\n",
              "    </tr>\n",
              "    <tr>\n",
              "      <th>28488</th>\n",
              "      <td>1499</td>\n",
              "      <td>27</td>\n",
              "      <td>1.925926</td>\n",
              "      <td>2.278699</td>\n",
              "      <td>Anaconda (1997)</td>\n",
              "    </tr>\n",
              "    <tr>\n",
              "      <th>41542</th>\n",
              "      <td>2643</td>\n",
              "      <td>16</td>\n",
              "      <td>1.687500</td>\n",
              "      <td>2.281252</td>\n",
              "      <td>Superman IV: The Quest for Peace (1987)</td>\n",
              "    </tr>\n",
              "    <tr>\n",
              "      <th>60940</th>\n",
              "      <td>5323</td>\n",
              "      <td>8</td>\n",
              "      <td>1.187500</td>\n",
              "      <td>2.323533</td>\n",
              "      <td>Jason X (2002)</td>\n",
              "    </tr>\n",
              "    <tr>\n",
              "      <th>70858</th>\n",
              "      <td>8666</td>\n",
              "      <td>9</td>\n",
              "      <td>1.333333</td>\n",
              "      <td>2.332950</td>\n",
              "      <td>Catwoman (2004)</td>\n",
              "    </tr>\n",
              "    <tr>\n",
              "      <th>43620</th>\n",
              "      <td>2798</td>\n",
              "      <td>12</td>\n",
              "      <td>1.583333</td>\n",
              "      <td>2.333003</td>\n",
              "      <td>Problem Child (1990)</td>\n",
              "    </tr>\n",
              "    <tr>\n",
              "      <th>39316</th>\n",
              "      <td>2422</td>\n",
              "      <td>14</td>\n",
              "      <td>1.750000</td>\n",
              "      <td>2.368136</td>\n",
              "      <td>Karate Kid, Part III, The (1989)</td>\n",
              "    </tr>\n",
              "    <tr>\n",
              "      <th>42232</th>\n",
              "      <td>2701</td>\n",
              "      <td>53</td>\n",
              "      <td>2.207547</td>\n",
              "      <td>2.370410</td>\n",
              "      <td>Wild Wild West (1999)</td>\n",
              "    </tr>\n",
              "  </tbody>\n",
              "</table>\n",
              "</div>"
            ],
            "text/plain": [
              "       movieId  count  ...  bayesian_avg                                    title\n",
              "50672     3593     18  ...      2.206897                 Battlefield Earth (2000)\n",
              "29009     1556     18  ...      2.206897           Speed 2: Cruise Control (1997)\n",
              "32218     1882     31  ...      2.275881                          Godzilla (1998)\n",
              "28488     1499     27  ...      2.278699                          Anaconda (1997)\n",
              "41542     2643     16  ...      2.281252  Superman IV: The Quest for Peace (1987)\n",
              "60940     5323      8  ...      2.323533                           Jason X (2002)\n",
              "70858     8666      9  ...      2.332950                          Catwoman (2004)\n",
              "43620     2798     12  ...      2.333003                     Problem Child (1990)\n",
              "39316     2422     14  ...      2.368136         Karate Kid, Part III, The (1989)\n",
              "42232     2701     53  ...      2.370410                    Wild Wild West (1999)\n",
              "\n",
              "[10 rows x 5 columns]"
            ]
          },
          "metadata": {
            "tags": []
          },
          "execution_count": 140
        }
      ]
    },
    {
      "cell_type": "markdown",
      "metadata": {
        "id": "wb_AUGQ8lhmk"
      },
      "source": [
        "Top 10 Users who have rated the most movies "
      ]
    },
    {
      "cell_type": "markdown",
      "metadata": {
        "id": "UfaNEspcIzfA"
      },
      "source": [
        "Based on Bayesian Average we can see the top 10 best movies and top 10 worst movies, This list can act as a benchmark for new users who come on the site "
      ]
    },
    {
      "cell_type": "markdown",
      "metadata": {
        "id": "d93I973sM4Pv"
      },
      "source": [
        "The create_X() function outputs a sparse matrix X with four mapper dictionaries:\n",
        "\n",
        "*   user_mapper: maps user id to user index\n",
        "*   movie_mapper: maps movie id to movie index\n",
        "*   user_inv_mapper: maps user index to user id\n",
        "*   movie_inv_mapper: maps movie index to movie id\n",
        "\n",
        "We need these dictionaries because they map which row and column of the utility matrix corresponds to which user ID and movie ID, respectively.\n",
        "The X (user-item) matrix is a scipy.sparse.csr_matrix which stores the data sparsely."
      ]
    },
    {
      "cell_type": "code",
      "metadata": {
        "id": "4weuO9LNNG5p"
      },
      "source": [
        "def create_X(final_rating_content_based):\n",
        "    \"\"\"\n",
        "    Generates a sparse matrix from ratings dataframe.\n",
        "    \n",
        "    Args:\n",
        "        df: pandas dataframe\n",
        "    \n",
        "    Returns:\n",
        "        X: sparse matrix\n",
        "        user_mapper: dict that maps user id's to user indices\n",
        "        user_inv_mapper: dict that maps user indices to user id's\n",
        "        movie_mapper: dict that maps movie id's to movie indices\n",
        "        movie_inv_mapper: dict that maps movie indices to movie id's\n",
        "    \"\"\"\n",
        "    N = final_rating_content_based['userId'].nunique()\n",
        "    M = final_rating_content_based['movieId'].nunique()\n",
        "\n",
        "    user_mapper = dict(zip(np.unique(final_rating_content_based[\"userId\"]), list(range(N))))\n",
        "    movie_mapper = dict(zip(np.unique(final_rating_content_based[\"movieId\"]), list(range(M))))\n",
        "    \n",
        "    user_inv_mapper = dict(zip(list(range(N)), np.unique(final_rating_content_based[\"userId\"])))\n",
        "    movie_inv_mapper = dict(zip(list(range(M)), np.unique(final_rating_content_based[\"movieId\"])))\n",
        "    \n",
        "    user_index = [user_mapper[i] for i in final_rating_content_based['userId']]\n",
        "    movie_index = [movie_mapper[i] for i in final_rating_content_based['movieId']]\n",
        "\n",
        "    X = csr_matrix((final_rating_content_based[\"rating\"], (movie_index, user_index)), shape=(M, N))\n",
        "    \n",
        "    return X, user_mapper, movie_mapper, user_inv_mapper, movie_inv_mapper"
      ],
      "execution_count": null,
      "outputs": []
    },
    {
      "cell_type": "code",
      "metadata": {
        "id": "eVoF98LhNtfC"
      },
      "source": [
        "X, user_mapper, movie_mapper, user_inv_mapper, movie_inv_mapper = create_X(final_rating_content_based)"
      ],
      "execution_count": null,
      "outputs": []
    },
    {
      "cell_type": "markdown",
      "metadata": {
        "id": "e7lRMNCBOE-5"
      },
      "source": [
        "Here, we calculate sparsity by dividing the number of non-zero elements by total number of elements as described in the equation below:\n",
        "\n",
        "$$Sparsity=\\frac{\\text{# non-zero elements}}{\\text{total elements}}$$"
      ]
    },
    {
      "cell_type": "code",
      "metadata": {
        "id": "FOPjhad0OG8N",
        "outputId": "abedf932-9a47-44e7-d677-23df8683e773",
        "colab": {
          "base_uri": "https://localhost:8080/",
          "height": 34
        }
      },
      "source": [
        "sparsity = X.count_nonzero()/(X.shape[0]*X.shape[1])\n",
        "\n",
        "print(f\"Matrix sparsity: {round(sparsity*100,2)}%\")"
      ],
      "execution_count": null,
      "outputs": [
        {
          "output_type": "stream",
          "text": [
            "Matrix sparsity: 2.53%\n"
          ],
          "name": "stdout"
        }
      ]
    },
    {
      "cell_type": "markdown",
      "metadata": {
        "id": "8Q59IvEiOWEK"
      },
      "source": [
        "The Sparsity of the Matrix is 2.53%, User-item matrices are typically are very sparse. A general rule of thumb is that your matrix sparsity should be no lower than 0.5% to generate decent results."
      ]
    },
    {
      "cell_type": "markdown",
      "metadata": {
        "id": "8GKU0GGMOqpr"
      },
      "source": [
        "Now let us use the KNN Algo to recommend movies to its users."
      ]
    },
    {
      "cell_type": "markdown",
      "metadata": {
        "id": "i0ToNHPMQltT"
      },
      "source": [
        " **This is using the Test and Train Split**"
      ]
    },
    {
      "cell_type": "code",
      "metadata": {
        "id": "ZOA1oscmI67p"
      },
      "source": [
        "from sklearn.model_selection import train_test_split\n",
        "from sklearn import neighbors\n",
        "from sklearn.metrics import accuracy_score\n",
        "from sklearn.metrics import classification_report"
      ],
      "execution_count": null,
      "outputs": []
    },
    {
      "cell_type": "code",
      "metadata": {
        "id": "0tuQJEpNWiT6",
        "outputId": "4b38666c-a84f-464c-a1d7-af5fd1d89793",
        "colab": {
          "base_uri": "https://localhost:8080/",
          "height": 204
        }
      },
      "source": [
        "rating_for_knn = final_rating_content_based\n",
        "knn_rating = round(rating_for_knn[['userId', 'rating']])\n",
        "knn_rating.head()"
      ],
      "execution_count": null,
      "outputs": [
        {
          "output_type": "execute_result",
          "data": {
            "text/html": [
              "<div>\n",
              "<style scoped>\n",
              "    .dataframe tbody tr th:only-of-type {\n",
              "        vertical-align: middle;\n",
              "    }\n",
              "\n",
              "    .dataframe tbody tr th {\n",
              "        vertical-align: top;\n",
              "    }\n",
              "\n",
              "    .dataframe thead th {\n",
              "        text-align: right;\n",
              "    }\n",
              "</style>\n",
              "<table border=\"1\" class=\"dataframe\">\n",
              "  <thead>\n",
              "    <tr style=\"text-align: right;\">\n",
              "      <th></th>\n",
              "      <th>userId</th>\n",
              "      <th>rating</th>\n",
              "    </tr>\n",
              "  </thead>\n",
              "  <tbody>\n",
              "    <tr>\n",
              "      <th>0</th>\n",
              "      <td>1</td>\n",
              "      <td>5.0</td>\n",
              "    </tr>\n",
              "    <tr>\n",
              "      <th>1</th>\n",
              "      <td>4</td>\n",
              "      <td>5.0</td>\n",
              "    </tr>\n",
              "    <tr>\n",
              "      <th>2</th>\n",
              "      <td>7</td>\n",
              "      <td>4.0</td>\n",
              "    </tr>\n",
              "    <tr>\n",
              "      <th>3</th>\n",
              "      <td>15</td>\n",
              "      <td>5.0</td>\n",
              "    </tr>\n",
              "    <tr>\n",
              "      <th>4</th>\n",
              "      <td>16</td>\n",
              "      <td>3.0</td>\n",
              "    </tr>\n",
              "  </tbody>\n",
              "</table>\n",
              "</div>"
            ],
            "text/plain": [
              "   userId  rating\n",
              "0       1     5.0\n",
              "1       4     5.0\n",
              "2       7     4.0\n",
              "3      15     5.0\n",
              "4      16     3.0"
            ]
          },
          "metadata": {
            "tags": []
          },
          "execution_count": 145
        }
      ]
    },
    {
      "cell_type": "code",
      "metadata": {
        "id": "VBaVzq-ZaPY6"
      },
      "source": [
        "# I need to write a function that converts the ratings into 1 and 0 "
      ],
      "execution_count": null,
      "outputs": []
    },
    {
      "cell_type": "code",
      "metadata": {
        "id": "L15mt7M3Jraz",
        "outputId": "69acaae3-73de-447c-c6dc-7e5f91ded2fc",
        "colab": {
          "base_uri": "https://localhost:8080/",
          "height": 34
        }
      },
      "source": [
        "X_train, X_test, Y_train, Y_test = train_test_split(final_rating_content_based, final_rating_content_based, train_size = .7)\n",
        "print(X_train.shape, X_test.shape, Y_train.shape, Y_test.shape)"
      ],
      "execution_count": null,
      "outputs": [
        {
          "output_type": "stream",
          "text": [
            "(65668, 4) (28144, 4) (65668, 4) (28144, 4)\n"
          ],
          "name": "stdout"
        }
      ]
    },
    {
      "cell_type": "code",
      "metadata": {
        "id": "bV_ShK3LLGr_",
        "outputId": "887d8daa-e69a-49fe-9127-e21c4928688d",
        "colab": {
          "base_uri": "https://localhost:8080/",
          "height": 68
        }
      },
      "source": [
        "k_n_n = neighbors.KNeighborsRegressor(n_neighbors=5, algorithm='brute', metric='cosine')\n",
        "k_n_n.fit(X_train, Y_train)"
      ],
      "execution_count": null,
      "outputs": [
        {
          "output_type": "execute_result",
          "data": {
            "text/plain": [
              "KNeighborsRegressor(algorithm='brute', leaf_size=30, metric='cosine',\n",
              "                    metric_params=None, n_jobs=None, n_neighbors=5, p=2,\n",
              "                    weights='uniform')"
            ]
          },
          "metadata": {
            "tags": []
          },
          "execution_count": 148
        }
      ]
    },
    {
      "cell_type": "code",
      "metadata": {
        "id": "fYTvdQOSLpiv"
      },
      "source": [
        "y_pred = k_n_n.predict(X_test)"
      ],
      "execution_count": null,
      "outputs": []
    },
    {
      "cell_type": "code",
      "metadata": {
        "id": "Hy3QAHxyNa5B",
        "outputId": "0d6aa5f1-a932-4416-fa05-6a0722f257c5",
        "colab": {
          "base_uri": "https://localhost:8080/",
          "height": 34
        }
      },
      "source": [
        "y_pred.shape"
      ],
      "execution_count": null,
      "outputs": [
        {
          "output_type": "execute_result",
          "data": {
            "text/plain": [
              "(28144, 4)"
            ]
          },
          "metadata": {
            "tags": []
          },
          "execution_count": 150
        }
      ]
    },
    {
      "cell_type": "code",
      "metadata": {
        "id": "bMfIdEa4WWZW"
      },
      "source": [
        "#Let us create a function that will model using the KNN algorithm, which will predict movies to its users using cosine similarity\n",
        "# Running Cosine Similarity between movies. \n",
        "\n",
        "def find_similar_movies(movie_id, X, k, metric='cosine', show_distance=False):\n",
        "    \"\"\"\n",
        "    Finds k-nearest neighbours for a given movie id.\n",
        "    \n",
        "    Args:\n",
        "        movie_id: id of the movie of interest\n",
        "        X: user-item utility matrix\n",
        "        k: number of similar movies to retrieve\n",
        "        metric: distance metric for kNN calculations\n",
        "    \n",
        "    Returns:\n",
        "        list of k similar movie ID's\n",
        "    \"\"\"\n",
        "    neighbour_ids = []\n",
        "    \n",
        "    movie_ind = movie_mapper[movie_id]\n",
        "    movie_vec = X[movie_ind]\n",
        "    k+=1\n",
        "    kNN = NearestNeighbors(n_neighbors=k, algorithm=\"brute\", metric=metric)\n",
        "    kNN.fit(X)\n",
        "    if isinstance(movie_vec, (np.ndarray)):\n",
        "        movie_vec = movie_vec.reshape(1,-1)\n",
        "    neighbour = kNN.kneighbors(movie_vec, return_distance=show_distance)\n",
        "    for i in range(0,k):\n",
        "        n = neighbour.item(i)\n",
        "        neighbour_ids.append(movie_inv_mapper[n])\n",
        "    neighbour_ids.pop(0)\n",
        "    return neighbour_ids"
      ],
      "execution_count": null,
      "outputs": []
    },
    {
      "cell_type": "markdown",
      "metadata": {
        "id": "a67o0zLpTMVb"
      },
      "source": [
        "find_similar_movies() takes in a movieId and user-item X matrix, and outputs a list of $k$ movies that are similar to the movieId of interest.\n",
        "Let's see how it works in action. We will first create another mapper that maps movieId to title so that our results are interpretable."
      ]
    },
    {
      "cell_type": "code",
      "metadata": {
        "id": "Z9bmJwW8W3LD",
        "outputId": "066aba25-000c-41a6-9360-68871ab6296e",
        "colab": {
          "base_uri": "https://localhost:8080/",
          "height": 359
        }
      },
      "source": [
        "#Use this as a reference to pick movieId and run the code below \n",
        "final_movie_content_based[['title','movieId']].drop_duplicates('movieId')[:10]"
      ],
      "execution_count": null,
      "outputs": [
        {
          "output_type": "execute_result",
          "data": {
            "text/html": [
              "<div>\n",
              "<style scoped>\n",
              "    .dataframe tbody tr th:only-of-type {\n",
              "        vertical-align: middle;\n",
              "    }\n",
              "\n",
              "    .dataframe tbody tr th {\n",
              "        vertical-align: top;\n",
              "    }\n",
              "\n",
              "    .dataframe thead th {\n",
              "        text-align: right;\n",
              "    }\n",
              "</style>\n",
              "<table border=\"1\" class=\"dataframe\">\n",
              "  <thead>\n",
              "    <tr style=\"text-align: right;\">\n",
              "      <th></th>\n",
              "      <th>title</th>\n",
              "      <th>movieId</th>\n",
              "    </tr>\n",
              "  </thead>\n",
              "  <tbody>\n",
              "    <tr>\n",
              "      <th>0</th>\n",
              "      <td>Star Wars: Episode V - The Empire Strikes Back...</td>\n",
              "      <td>1196</td>\n",
              "    </tr>\n",
              "    <tr>\n",
              "      <th>186</th>\n",
              "      <td>Heat (1995)</td>\n",
              "      <td>6</td>\n",
              "    </tr>\n",
              "    <tr>\n",
              "      <th>278</th>\n",
              "      <td>Mad Max (1979)</td>\n",
              "      <td>3702</td>\n",
              "    </tr>\n",
              "    <tr>\n",
              "      <th>316</th>\n",
              "      <td>¡Three Amigos! (1986)</td>\n",
              "      <td>2478</td>\n",
              "    </tr>\n",
              "    <tr>\n",
              "      <th>341</th>\n",
              "      <td>Sword in the Stone, The (1963)</td>\n",
              "      <td>1025</td>\n",
              "    </tr>\n",
              "    <tr>\n",
              "      <th>366</th>\n",
              "      <td>Toy Story (1995)</td>\n",
              "      <td>1</td>\n",
              "    </tr>\n",
              "    <tr>\n",
              "      <th>541</th>\n",
              "      <td>Willy Wonka &amp; the Chocolate Factory (1971)</td>\n",
              "      <td>1073</td>\n",
              "    </tr>\n",
              "    <tr>\n",
              "      <th>643</th>\n",
              "      <td>Enemy of the State (1998)</td>\n",
              "      <td>2353</td>\n",
              "    </tr>\n",
              "    <tr>\n",
              "      <th>705</th>\n",
              "      <td>Citizen Kane (1941)</td>\n",
              "      <td>923</td>\n",
              "    </tr>\n",
              "    <tr>\n",
              "      <th>771</th>\n",
              "      <td>Total Recall (1990)</td>\n",
              "      <td>2916</td>\n",
              "    </tr>\n",
              "  </tbody>\n",
              "</table>\n",
              "</div>"
            ],
            "text/plain": [
              "                                                 title  movieId\n",
              "0    Star Wars: Episode V - The Empire Strikes Back...     1196\n",
              "186                                        Heat (1995)        6\n",
              "278                                     Mad Max (1979)     3702\n",
              "316                              ¡Three Amigos! (1986)     2478\n",
              "341                     Sword in the Stone, The (1963)     1025\n",
              "366                                   Toy Story (1995)        1\n",
              "541         Willy Wonka & the Chocolate Factory (1971)     1073\n",
              "643                          Enemy of the State (1998)     2353\n",
              "705                                Citizen Kane (1941)      923\n",
              "771                                Total Recall (1990)     2916"
            ]
          },
          "metadata": {
            "tags": []
          },
          "execution_count": 152
        }
      ]
    },
    {
      "cell_type": "code",
      "metadata": {
        "id": "Cd5yBO7GTJ1C",
        "outputId": "e9cec27b-462b-44f6-fbbb-eb91fc0b9035",
        "colab": {
          "base_uri": "https://localhost:8080/",
          "height": 221
        }
      },
      "source": [
        "#These recommendations are based on Cosine Distance, Similarity\n",
        "\n",
        "movie_titles = dict(zip(final_movie_content_based['movieId'], final_movie_content_based['title']))\n",
        "\n",
        "movie_id = 1\n",
        "\n",
        "similar_ids = find_similar_movies(movie_id, X, k=10)\n",
        "movie_title = movie_titles[movie_id]\n",
        "\n",
        "print(f\"Because you watched {movie_title}\")\n",
        "print(f\"You may like...\")\n",
        "for i in similar_ids:\n",
        "    print(movie_titles[i])\n"
      ],
      "execution_count": null,
      "outputs": [
        {
          "output_type": "stream",
          "text": [
            "Because you watched Toy Story (1995)\n",
            "You may like...\n",
            "Jurassic Park (1993)\n",
            "Forrest Gump (1994)\n",
            "Toy Story 2 (1999)\n",
            "Star Wars: Episode IV - A New Hope (1977)\n",
            "Shrek (2001)\n",
            "Star Wars: Episode VI - Return of the Jedi (1983)\n",
            "Apollo 13 (1995)\n",
            "Groundhog Day (1993)\n",
            "Pulp Fiction (1994)\n",
            "Raiders of the Lost Ark (Indiana Jones and the Raiders of the Lost Ark) (1981)\n"
          ],
          "name": "stdout"
        }
      ]
    },
    {
      "cell_type": "code",
      "metadata": {
        "id": "A89EARlqgncc"
      },
      "source": [
        "#kNN based on Eculidean distance \n",
        "\n",
        "movie_titles = dict(zip(final_movie_content_based['movieId'], final_movie_content_based['title']))\n",
        "\n",
        "movie_id = 1\n",
        "similar_ids = find_similar_movies(movie_id, X, k=10, metric=\"euclidean\")\n",
        "\n",
        "movie_title = movie_titles[movie_id]\n",
        "print(f\"Because you watched {movie_title}:\")\n",
        "for i in similar_ids:\n",
        "    print(movie_titles[i])"
      ],
      "execution_count": null,
      "outputs": []
    },
    {
      "cell_type": "markdown",
      "metadata": {
        "id": "aMLmSWpdhy7h"
      },
      "source": [
        "# Collaborative Filtering - Singular Value Decomposition \n",
        "\n"
      ]
    },
    {
      "cell_type": "code",
      "metadata": {
        "id": "_A6uyptnyzPP"
      },
      "source": [
        "!pip install surprise "
      ],
      "execution_count": null,
      "outputs": []
    },
    {
      "cell_type": "code",
      "metadata": {
        "id": "V6j3phbsFVXf"
      },
      "source": [
        "!pip install -U scikit-learn scipy matplotlib"
      ],
      "execution_count": null,
      "outputs": []
    },
    {
      "cell_type": "code",
      "metadata": {
        "id": "Hjy5ME8pt8g2"
      },
      "source": [
        "from surprise import Reader, Dataset, SVD"
      ],
      "execution_count": null,
      "outputs": []
    },
    {
      "cell_type": "code",
      "metadata": {
        "id": "OKG4krnIuDXp"
      },
      "source": [
        "from surprise.model_selection import cross_validate"
      ],
      "execution_count": null,
      "outputs": []
    },
    {
      "cell_type": "code",
      "metadata": {
        "id": "9gjKSFpPuHPG"
      },
      "source": [
        "from surprise.model_selection import KFold"
      ],
      "execution_count": null,
      "outputs": []
    },
    {
      "cell_type": "code",
      "metadata": {
        "id": "m50p8nFWuKzF"
      },
      "source": [
        "from surprise import accuracy"
      ],
      "execution_count": null,
      "outputs": []
    },
    {
      "cell_type": "code",
      "metadata": {
        "id": "6JnMwT01iLg0"
      },
      "source": [
        "from sklearn.metrics import accuracy_score"
      ],
      "execution_count": null,
      "outputs": []
    },
    {
      "cell_type": "code",
      "metadata": {
        "id": "Ku-4FrSStplY",
        "outputId": "665da512-63c9-4333-9bb9-aa5855f46231",
        "colab": {
          "base_uri": "https://localhost:8080/",
          "height": 102
        }
      },
      "source": [
        "reader = Reader()\n",
        "\n",
        "data = Dataset.load_from_df(final_rating_content_based[['userId', 'movieId', 'rating']], reader)\n",
        "\n",
        "kf = KFold(n_splits=5)\n",
        "\n",
        "algo = SVD()\n",
        "\n",
        "for trainset, testset in kf.split(data):\n",
        "\n",
        "    # train and test algorithm.\n",
        "    algo.fit(trainset)\n",
        "    predictions = algo.test(testset)\n",
        "\n",
        "    # Compute and print Root Mean Squared Error\n",
        "    accuracy.rmse(predictions, verbose=True)"
      ],
      "execution_count": null,
      "outputs": [
        {
          "output_type": "stream",
          "text": [
            "RMSE: 0.8701\n",
            "RMSE: 0.8684\n",
            "RMSE: 0.8726\n",
            "RMSE: 0.8699\n",
            "RMSE: 0.8564\n"
          ],
          "name": "stdout"
        }
      ]
    },
    {
      "cell_type": "code",
      "metadata": {
        "id": "U950W_2DHbeZ",
        "outputId": "b8452b2c-4781-425d-ed40-5621e47ad1b7",
        "colab": {
          "base_uri": "https://localhost:8080/",
          "height": 34
        }
      },
      "source": [
        "def cal_average(num):\n",
        "    sum_num = 0\n",
        "    for t in num:\n",
        "        sum_num = sum_num + t           \n",
        "\n",
        "    avg = sum_num / len(num)\n",
        "    return avg\n",
        "\n",
        "print(\"The average is\", cal_average([0.8797, 0.8679, 0.8498, 0.8651, 0.8871, 0.8677, 0.8284, 0.8611, 0.8563, 0.8763, 0.8544, 0.8348, 0.8619, 0.8705, 0.9067, 0.8519, 0.9078, 0.8485\n",
        "       , 0.8320, 0.8661, 0.8492, 0.8270, 0.8465, 0.8503, 0.8803, 0.8465, 0.8698, 0.8891, 0.8563, 0.8389, 0.8512, 0.8510, 0.8709, 0.8091, 0.8525, 0.8190\n",
        "       , 0.8628, 0.8609, 0.8612, 0.8702, 0.8738, 0.8846, 0.8503, 0.8371, 0.8498, 0.8493, 0.8928, 0.8372, 0.8285, 0.8954]))\n",
        "\n"
      ],
      "execution_count": null,
      "outputs": [
        {
          "output_type": "stream",
          "text": [
            "The average is 0.8587099999999999\n"
          ],
          "name": "stdout"
        }
      ]
    },
    {
      "cell_type": "code",
      "metadata": {
        "id": "KAfjV33QvGfF",
        "outputId": "640fb2e9-3cb1-43aa-b7f1-aae462a182e2",
        "colab": {
          "base_uri": "https://localhost:8080/",
          "height": 298
        }
      },
      "source": [
        "# Plotting the relationship between K-folds and RSME Score @20 Folds \n",
        "\n",
        "def Rsme_kfold_1():\n",
        "  Fold = [1, 2, 3, 4, 5, 6, 7, 8, 9, 10, 11, 12, 13, 14, 15, 16, 17, 18, 19, 20]\n",
        "  y = [0.8602, 0.8408, 0.8850, 0.8651, 0.8634, 0.8419, 0.8661, 0.8473, 0.8542, 0.8493, 0.8640, 0.8688, 0.8661, 0.8678, 0.8768, 0.8432, 0.8659, 0.8590, 0.8677, 0.8608]\n",
        "  plt = sns.lineplot(x=Fold, y=y).set_title('K-FOLD VS RSME 20 Folds')\n",
        "  return(plt)\n",
        "  \n",
        "Rsme_kfold_1()\n"
      ],
      "execution_count": null,
      "outputs": [
        {
          "output_type": "execute_result",
          "data": {
            "text/plain": [
              "Text(0.5, 1.0, 'K-FOLD VS RSME 20 Folds')"
            ]
          },
          "metadata": {
            "tags": []
          },
          "execution_count": 166
        },
        {
          "output_type": "display_data",
          "data": {
            "image/png": "[encoded data removed]",
            "text/plain": [
              "<Figure size 432x288 with 1 Axes>"
            ]
          },
          "metadata": {
            "tags": []
          }
        }
      ]
    },
    {
      "cell_type": "code",
      "metadata": {
        "id": "TdJc76OTzTwc",
        "outputId": "90c23d35-e49b-4258-caa0-e3c6ac64b142",
        "colab": {
          "base_uri": "https://localhost:8080/",
          "height": 298
        }
      },
      "source": [
        "# Plotting the relationship between K-folds and RSME Score @50 Folds \n",
        "\n",
        "def rsme_fold_2():\n",
        "  Fold_1 = [1,2,3,4,5,6,7,8,9,10,11,12,13,14,15,16,17,18,19,20,21,22,23,24,25,26,27,28,29,30,31,32,33,34,35,36,37,38,39,40,41,42,43,44,45,46,47,48,49,50]\n",
        "  y_1 = [0.8797, 0.8679, 0.8498, 0.8651, 0.8871, 0.8677, 0.8284, 0.8611, 0.8563, 0.8763, 0.8544, 0.8348, 0.8619, 0.8705, 0.9067, 0.8519, 0.9078, 0.8485\n",
        "       , 0.8320, 0.8661, 0.8492, 0.8270, 0.8465, 0.8503, 0.8803, 0.8465, 0.8698, 0.8891, 0.8563, 0.8389, 0.8512, 0.8510, 0.8709, 0.8091, 0.8525, 0.8190\n",
        "       , 0.8628, 0.8609, 0.8612, 0.8702, 0.8738, 0.8846, 0.8503, 0.8371, 0.8498, 0.8493, 0.8928, 0.8372, 0.8285, 0.8954]\n",
        "  plt = sns.lineplot(x=Fold_1, y=y_1).set_title('K-FOLD VS RSME 50 Folds')\n",
        "\n",
        "  return(plt)\n",
        "\n",
        "rsme_fold_2()\n",
        "\n"
      ],
      "execution_count": null,
      "outputs": [
        {
          "output_type": "execute_result",
          "data": {
            "text/plain": [
              "Text(0.5, 1.0, 'K-FOLD VS RSME 50 Folds')"
            ]
          },
          "metadata": {
            "tags": []
          },
          "execution_count": 167
        },
        {
          "output_type": "display_data",
          "data": {
            "image/png": "[encoded data removed]",
            "text/plain": [
              "<Figure size 432x288 with 1 Axes>"
            ]
          },
          "metadata": {
            "tags": []
          }
        }
      ]
    },
    {
      "cell_type": "code",
      "metadata": {
        "id": "-lNFVRwR22_1"
      },
      "source": [
        "#Hyper-tuning SVD model \n",
        "from surprise.model_selection import GridSearchCV\n",
        "from surprise.model_selection import RandomizedSearchCV"
      ],
      "execution_count": null,
      "outputs": []
    },
    {
      "cell_type": "code",
      "metadata": {
        "id": "yAVulOchjlFU"
      },
      "source": [
        "#This is based on Randomsearch CV\n",
        "data = Dataset.load_from_df(final_rating_content_based[['userId', 'movieId', 'rating']], reader)\n",
        "\n",
        "\n",
        "param_grid_randomcv = {'n_epochs': [5, 10, 15, 20], 'lr_all': [0.002, 0.005],\n",
        "              'reg_all': [0.4, 0.6]}\n",
        "\n",
        "rs = RandomizedSearchCV(SVD,param_grid_randomcv,  cv=3)\n",
        "\n",
        "rs.fit(data)\n",
        "\n",
        "print(rs.best_score)\n",
        "\n",
        "print(rs.best_params)\n",
        "\n",
        "print(rs.cv_results)\n",
        "\n"
      ],
      "execution_count": null,
      "outputs": []
    },
    {
      "cell_type": "code",
      "metadata": {
        "id": "UIxygQ8626l0"
      },
      "source": [
        "#This is based on Gridsearch CV \n",
        "data = Dataset.load_from_df(final_rating_content_based[['userId', 'movieId', 'rating']], reader)\n",
        "\n",
        "param_grid = {'n_epochs': [5, 10, 15, 20], 'lr_all': [0.002, 0.005],\n",
        "              'reg_all': [0.4, 0.6]}\n",
        "\n",
        "gs = GridSearchCV(SVD, param_grid, measures=['rmse', 'mae'], cv=3)\n",
        "\n",
        "gs.fit(data)\n",
        "\n",
        "# best RMSE score\n",
        "print(gs.best_score['rmse'])\n",
        "\n",
        "# combination of parameters that gave the best RMSE score\n",
        "print(gs.best_params['rmse'])"
      ],
      "execution_count": null,
      "outputs": []
    },
    {
      "cell_type": "code",
      "metadata": {
        "id": "qOJgeuZloWGc"
      },
      "source": [
        "gs.cv_results"
      ],
      "execution_count": null,
      "outputs": []
    },
    {
      "cell_type": "code",
      "metadata": {
        "id": "XrgfMLqy6SZp"
      },
      "source": [
        "cross_validate(algo, data, measures=['RMSE','MAE'],cv=5, verbose=True)"
      ],
      "execution_count": null,
      "outputs": []
    },
    {
      "cell_type": "code",
      "metadata": {
        "id": "upNwUt5_LDej",
        "outputId": "c2a25674-872a-415e-d06b-6fad3f74d68f",
        "colab": {
          "base_uri": "https://localhost:8080/",
          "height": 298
        }
      },
      "source": [
        "#Plotting RSME score  \n",
        "\n",
        "companies = ['netflix Cinematch', 'Belkor Pragmatic Chaos', 'Surprise MovieLens', 'SVD Model']\n",
        "rsme_score_recorded = [0.9514, 0.8554, 0.934, 0.8648]\n",
        "\n",
        "sns.lineplot(x = companies, y= rsme_score_recorded).set_title('RSME Comparison against benchmark')\n"
      ],
      "execution_count": null,
      "outputs": [
        {
          "output_type": "execute_result",
          "data": {
            "text/plain": [
              "Text(0.5, 1.0, 'RSME Comparison against benchmark')"
            ]
          },
          "metadata": {
            "tags": []
          },
          "execution_count": 174
        },
        {
          "output_type": "display_data",
          "data": {
            "image/png": "[encoded data removed]",
            "text/plain": [
              "<Figure size 432x288 with 1 Axes>"
            ]
          },
          "metadata": {
            "tags": []
          }
        }
      ]
    },
    {
      "cell_type": "code",
      "metadata": {
        "id": "4QyS-EP06yWa",
        "outputId": "b0efaa00-91b0-4348-8509-da269c0641ed",
        "colab": {
          "base_uri": "https://localhost:8080/",
          "height": 34
        }
      },
      "source": [
        "trainset = data.build_full_trainset()\n",
        "\n",
        "algo.fit(trainset)"
      ],
      "execution_count": null,
      "outputs": [
        {
          "output_type": "execute_result",
          "data": {
            "text/plain": [
              "<surprise.prediction_algorithms.matrix_factorization.SVD at 0x7f2477da0588>"
            ]
          },
          "metadata": {
            "tags": []
          },
          "execution_count": 175
        }
      ]
    },
    {
      "cell_type": "code",
      "metadata": {
        "id": "R1IA216y91nS",
        "outputId": "249cc95e-49d2-4143-cc38-4f846d7fc13e",
        "colab": {
          "base_uri": "https://localhost:8080/",
          "height": 419
        }
      },
      "source": [
        "#Rating given by user 200\n",
        "final_rating_content_based[final_rating_content_based['userId'] == 200]"
      ],
      "execution_count": null,
      "outputs": [
        {
          "output_type": "execute_result",
          "data": {
            "text/html": [
              "<div>\n",
              "<style scoped>\n",
              "    .dataframe tbody tr th:only-of-type {\n",
              "        vertical-align: middle;\n",
              "    }\n",
              "\n",
              "    .dataframe tbody tr th {\n",
              "        vertical-align: top;\n",
              "    }\n",
              "\n",
              "    .dataframe thead th {\n",
              "        text-align: right;\n",
              "    }\n",
              "</style>\n",
              "<table border=\"1\" class=\"dataframe\">\n",
              "  <thead>\n",
              "    <tr style=\"text-align: right;\">\n",
              "      <th></th>\n",
              "      <th>userId</th>\n",
              "      <th>movieId</th>\n",
              "      <th>rating</th>\n",
              "      <th>timestamp</th>\n",
              "    </tr>\n",
              "  </thead>\n",
              "  <tbody>\n",
              "    <tr>\n",
              "      <th>61</th>\n",
              "      <td>200</td>\n",
              "      <td>1196</td>\n",
              "      <td>5.0</td>\n",
              "      <td>1229886264</td>\n",
              "    </tr>\n",
              "    <tr>\n",
              "      <th>423</th>\n",
              "      <td>200</td>\n",
              "      <td>1</td>\n",
              "      <td>3.5</td>\n",
              "      <td>1229886312</td>\n",
              "    </tr>\n",
              "    <tr>\n",
              "      <th>574</th>\n",
              "      <td>200</td>\n",
              "      <td>1073</td>\n",
              "      <td>4.0</td>\n",
              "      <td>1229886286</td>\n",
              "    </tr>\n",
              "    <tr>\n",
              "      <th>1988</th>\n",
              "      <td>200</td>\n",
              "      <td>3793</td>\n",
              "      <td>4.0</td>\n",
              "      <td>1229885786</td>\n",
              "    </tr>\n",
              "    <tr>\n",
              "      <th>2221</th>\n",
              "      <td>200</td>\n",
              "      <td>2115</td>\n",
              "      <td>4.0</td>\n",
              "      <td>1229886375</td>\n",
              "    </tr>\n",
              "    <tr>\n",
              "      <th>...</th>\n",
              "      <td>...</td>\n",
              "      <td>...</td>\n",
              "      <td>...</td>\n",
              "      <td>...</td>\n",
              "    </tr>\n",
              "    <tr>\n",
              "      <th>86313</th>\n",
              "      <td>200</td>\n",
              "      <td>4722</td>\n",
              "      <td>3.0</td>\n",
              "      <td>1229878977</td>\n",
              "    </tr>\n",
              "    <tr>\n",
              "      <th>86314</th>\n",
              "      <td>200</td>\n",
              "      <td>5139</td>\n",
              "      <td>3.0</td>\n",
              "      <td>1229877842</td>\n",
              "    </tr>\n",
              "    <tr>\n",
              "      <th>86323</th>\n",
              "      <td>200</td>\n",
              "      <td>5610</td>\n",
              "      <td>2.0</td>\n",
              "      <td>1229877889</td>\n",
              "    </tr>\n",
              "    <tr>\n",
              "      <th>86326</th>\n",
              "      <td>200</td>\n",
              "      <td>27685</td>\n",
              "      <td>2.0</td>\n",
              "      <td>1229878742</td>\n",
              "    </tr>\n",
              "    <tr>\n",
              "      <th>86328</th>\n",
              "      <td>200</td>\n",
              "      <td>34321</td>\n",
              "      <td>3.0</td>\n",
              "      <td>1229877839</td>\n",
              "    </tr>\n",
              "  </tbody>\n",
              "</table>\n",
              "<p>334 rows × 4 columns</p>\n",
              "</div>"
            ],
            "text/plain": [
              "       userId  movieId  rating   timestamp\n",
              "61        200     1196     5.0  1229886264\n",
              "423       200        1     3.5  1229886312\n",
              "574       200     1073     4.0  1229886286\n",
              "1988      200     3793     4.0  1229885786\n",
              "2221      200     2115     4.0  1229886375\n",
              "...       ...      ...     ...         ...\n",
              "86313     200     4722     3.0  1229878977\n",
              "86314     200     5139     3.0  1229877842\n",
              "86323     200     5610     2.0  1229877889\n",
              "86326     200    27685     2.0  1229878742\n",
              "86328     200    34321     3.0  1229877839\n",
              "\n",
              "[334 rows x 4 columns]"
            ]
          },
          "metadata": {
            "tags": []
          },
          "execution_count": 176
        }
      ]
    },
    {
      "cell_type": "markdown",
      "metadata": {
        "id": "9K6bwyTo-Z8q"
      },
      "source": [
        "\n",
        "Now let's use SVD to predict the rating that User with ID 200 will give to a random movie (let's say with Movie ID 1994)."
      ]
    },
    {
      "cell_type": "code",
      "metadata": {
        "id": "aDCe8N8n-bsU",
        "outputId": "00a549d9-74e4-4ecc-d3e3-383304270256",
        "colab": {
          "base_uri": "https://localhost:8080/",
          "height": 51
        }
      },
      "source": [
        "def predict_user_rating():\n",
        "  \n",
        "  a = algo.predict(200, 2751)\n",
        "  b = algo.predict(200,1)\n",
        "  return(a, b)\n",
        "\n",
        "predict_user_rating()"
      ],
      "execution_count": null,
      "outputs": [
        {
          "output_type": "execute_result",
          "data": {
            "text/plain": [
              "(Prediction(uid=200, iid=2751, r_ui=None, est=4.035482025101063, details={'was_impossible': False}),\n",
              " Prediction(uid=200, iid=1, r_ui=None, est=4.099969637306036, details={'was_impossible': False}))"
            ]
          },
          "metadata": {
            "tags": []
          },
          "execution_count": 177
        }
      ]
    },
    {
      "cell_type": "code",
      "metadata": {
        "id": "0T3szhv8-zQ0",
        "outputId": "8f1ec0e6-8c99-4268-89e1-3734af79cfa4",
        "colab": {
          "base_uri": "https://localhost:8080/",
          "height": 34
        }
      },
      "source": [
        "algo.predict(200, 4722)"
      ],
      "execution_count": null,
      "outputs": [
        {
          "output_type": "execute_result",
          "data": {
            "text/plain": [
              "Prediction(uid=200, iid=4722, r_ui=None, est=3.4705837472189347, details={'was_impossible': False})"
            ]
          },
          "metadata": {
            "tags": []
          },
          "execution_count": 178
        }
      ]
    },
    {
      "cell_type": "markdown",
      "metadata": {
        "id": "8OSip3A8B3cD"
      },
      "source": [
        "# Collaborative Filtering using ALS "
      ]
    },
    {
      "cell_type": "markdown",
      "metadata": {
        "id": "o-LgluFv0JRI"
      },
      "source": [
        "The ALS model works on implict data, impicit data is the indirect user interaction with an item, for example how many times a user views an item, or purchase history. "
      ]
    },
    {
      "cell_type": "code",
      "metadata": {
        "id": "Sn7ApXQOB7xF"
      },
      "source": [
        "!pip install pyspark "
      ],
      "execution_count": null,
      "outputs": []
    },
    {
      "cell_type": "code",
      "metadata": {
        "id": "0RcvZX-z0ne2"
      },
      "source": [
        "!pip install implicit "
      ],
      "execution_count": null,
      "outputs": []
    },
    {
      "cell_type": "code",
      "metadata": {
        "id": "FMwHI3oa0cIm"
      },
      "source": [
        "import numpy as np \n",
        "import pandas as pd \n",
        "from scipy.sparse import csr_matrix\n",
        "import implicit\n",
        "\n",
        "import warnings\n",
        "warnings.simplefilter(action='ignore', category=FutureWarning)"
      ],
      "execution_count": null,
      "outputs": []
    },
    {
      "cell_type": "code",
      "metadata": {
        "id": "3u7Ca9WZOuLI",
        "outputId": "41aeb010-266a-4b49-d0a8-3572584a2ac5",
        "colab": {
          "base_uri": "https://localhost:8080/",
          "height": 34
        }
      },
      "source": [
        "#rsme for ALS \n",
        "sum = 90.54+ 87.54 + 92.54 + 88.94 + 88.10\n",
        "average = sum/5\n",
        "average"
      ],
      "execution_count": null,
      "outputs": [
        {
          "output_type": "execute_result",
          "data": {
            "text/plain": [
              "89.532"
            ]
          },
          "metadata": {
            "tags": []
          },
          "execution_count": 339
        }
      ]
    },
    {
      "cell_type": "markdown",
      "metadata": {
        "id": "JBDHVLCd4gem"
      },
      "source": [
        "We need to create a Movie Title Mapper for our ALS Model "
      ]
    },
    {
      "cell_type": "code",
      "metadata": {
        "id": "cJxBojLJ4erf"
      },
      "source": [
        "# Creating a Movie title Mapper using fuzzywuzzy \n",
        "\n",
        "def movie_finder(title):\n",
        "  all_title = final_movie_content_based['title'].tolist()\n",
        "  closet_match = process.extractOne(title, all_title)\n",
        "  return closet_match[0]\n",
        "\n",
        "movie_title_mapper = dict(zip(final_movie_content_based['title'], final_movie_content_based['movieId']))\n",
        "movie_title_inv_mapper = dict(zip(final_movie_content_based['movieId'],final_movie_content_based['title']))\n",
        "\n",
        "def get_movie_index(title):\n",
        "  fuzzy_title = movie_finder(title)\n",
        "  movie_id = movie_title_mapper[fuzzy_title]\n",
        "  movie_idx = movie_mapper[movie_id]\n",
        "  return movie_idx\n",
        "\n",
        "\n",
        "def get_movie_title(movie_idx):\n",
        "  movie_id = movie_inv_mapper[movie_idx]\n",
        "  title = movie_title_inv_mapper[movie_id]\n",
        "  return title \n"
      ],
      "execution_count": null,
      "outputs": []
    },
    {
      "cell_type": "code",
      "metadata": {
        "id": "BUv1JBAvxGcA",
        "outputId": "14997d62-728f-4c5c-ae1e-71837e2b1c90",
        "colab": {
          "base_uri": "https://localhost:8080/",
          "height": 66,
          "referenced_widgets": [
            "88dbbf1b744343cba20d90e777f7e5f1",
            "f690dfb1fa1348f88299fee6f16cc080",
            "6b2739ce8ac34fbe90c47555d217f30a",
            "239c8e6712d149cfaa6f0ce450a0f9c9",
            "01a7d8fb972a446da32978918ca9caff",
            "c7a546f89b9941878f452340b7717baf",
            "df3c8c666fe1410cab2b2734c619e7a0",
            "d42dc0fed0b7416b92ab0cd21fd98ff1"
          ]
        }
      },
      "source": [
        "#Initalising the Model \n",
        "\n",
        "model_1_ALS = implicit.als.AlternatingLeastSquares(factors=100, use_cg=True, use_gpu=False, iterations=50, calculate_training_loss=True, num_threads=1,regularization=0.01)\n",
        "\n",
        "model_1_ALS.fit(X)\n"
      ],
      "execution_count": null,
      "outputs": [
        {
          "output_type": "display_data",
          "data": {
            "application/vnd.jupyter.widget-view+json": {
              "model_id": "88dbbf1b744343cba20d90e777f7e5f1",
              "version_minor": 0,
              "version_major": 2
            },
            "text/plain": [
              "HBox(children=(FloatProgress(value=0.0, max=50.0), HTML(value='')))"
            ]
          },
          "metadata": {
            "tags": []
          }
        },
        {
          "output_type": "stream",
          "text": [
            "\n"
          ],
          "name": "stdout"
        }
      ]
    },
    {
      "cell_type": "code",
      "metadata": {
        "id": "RLWInmYV4FZd",
        "outputId": "25437616-b6fe-4d95-b2bc-006e29a21e84",
        "colab": {
          "base_uri": "https://localhost:8080/",
          "height": 187
        }
      },
      "source": [
        "movie_of_interest = 'forrest gump'\n",
        "\n",
        "movie_index = get_movie_index(movie_of_interest)\n",
        "related = model_1_ALS.similar_items(movie_index)\n",
        "related "
      ],
      "execution_count": null,
      "outputs": [
        {
          "output_type": "execute_result",
          "data": {
            "text/plain": [
              "[(311, 0.33438691),\n",
              " (274, 0.19068725),\n",
              " (254, 0.16426249),\n",
              " (1922, 0.15873043),\n",
              " (415, 0.14940716),\n",
              " (507, 0.14936401),\n",
              " (95, 0.14337109),\n",
              " (511, 0.14030814),\n",
              " (433, 0.1270363),\n",
              " (960, 0.12667379)]"
            ]
          },
          "metadata": {
            "tags": []
          },
          "execution_count": 307
        }
      ]
    },
    {
      "cell_type": "markdown",
      "metadata": {
        "id": "MWCQ8wMs705Y"
      },
      "source": [
        "The output of similiar_items() is not user friendly, therefore we'll use get_movie_title to interept our results "
      ]
    },
    {
      "cell_type": "code",
      "metadata": {
        "id": "7M9TgxCQ8ARV",
        "outputId": "fb8af2e0-a65d-4d29-c0c3-000831285c5c",
        "colab": {
          "base_uri": "https://localhost:8080/",
          "height": 204
        }
      },
      "source": [
        "print(f\"Because you watched {movie_finder(movie_of_interest)}\")\n",
        "print(f\"You may also like...\")\n",
        "for r in related:\n",
        "  recommended_title = get_movie_title(r[0])\n",
        "  if recommended_title != movie_finder(movie_of_interest):\n",
        "    print(recommended_title)"
      ],
      "execution_count": null,
      "outputs": [
        {
          "output_type": "stream",
          "text": [
            "Because you watched Forrest Gump (1994)\n",
            "You may also like...\n",
            "Shawshank Redemption, The (1994)\n",
            "Pulp Fiction (1994)\n",
            "Matrix, The (1999)\n",
            "Jurassic Park (1993)\n",
            "Silence of the Lambs, The (1991)\n",
            "Braveheart (1995)\n",
            "Pretty Woman (1990)\n",
            "Mrs. Doubtfire (1993)\n",
            "Back to the Future (1985)\n"
          ],
          "name": "stdout"
        }
      ]
    },
    {
      "cell_type": "markdown",
      "metadata": {
        "id": "l35IyfoZSgEl"
      },
      "source": [
        "Lets pull some personalised recommendations for users "
      ]
    },
    {
      "cell_type": "code",
      "metadata": {
        "id": "RaG5hbEVSYwq"
      },
      "source": [
        "#Lets pull personalised recommendations for user\n",
        "\n",
        "user_id = 39"
      ],
      "execution_count": null,
      "outputs": []
    },
    {
      "cell_type": "code",
      "metadata": {
        "id": "c32i9MysWGLg",
        "outputId": "44b07e80-cd2f-446a-b0eb-a6a1b352e71a",
        "colab": {
          "base_uri": "https://localhost:8080/",
          "height": 34
        }
      },
      "source": [
        "user_ratings = final_rating_content_based[final_rating_content_based['userId']==user_id].merge(final_movie_content_based[['movieId', 'title', 'genres']])\n",
        "user_ratings = user_ratings.sort_values('rating', ascending=False)\n",
        "print(f\"Number of movies rated by user {user_id}: {user_ratings['movieId'].nunique()}\")"
      ],
      "execution_count": null,
      "outputs": [
        {
          "output_type": "stream",
          "text": [
            "Number of movies rated by user 39: 100\n"
          ],
          "name": "stdout"
        }
      ]
    },
    {
      "cell_type": "code",
      "metadata": {
        "id": "1wP1mq2OWVM7",
        "outputId": "505cd30b-6211-4853-f03d-f6fabc26a615",
        "colab": {
          "base_uri": "https://localhost:8080/",
          "height": 204
        }
      },
      "source": [
        "user_ratings = final_rating_content_based[final_rating_content_based['userId']==user_id].merge(final_movie_content_based[['movieId', 'title','genres']])\n",
        "user_ratings = user_ratings.sort_values('rating', ascending=False).drop_duplicates('title')\n",
        "top_5 = user_ratings.head()\n",
        "top_5"
      ],
      "execution_count": null,
      "outputs": [
        {
          "output_type": "execute_result",
          "data": {
            "text/html": [
              "<div>\n",
              "<style scoped>\n",
              "    .dataframe tbody tr th:only-of-type {\n",
              "        vertical-align: middle;\n",
              "    }\n",
              "\n",
              "    .dataframe tbody tr th {\n",
              "        vertical-align: top;\n",
              "    }\n",
              "\n",
              "    .dataframe thead th {\n",
              "        text-align: right;\n",
              "    }\n",
              "</style>\n",
              "<table border=\"1\" class=\"dataframe\">\n",
              "  <thead>\n",
              "    <tr style=\"text-align: right;\">\n",
              "      <th></th>\n",
              "      <th>userId</th>\n",
              "      <th>movieId</th>\n",
              "      <th>rating</th>\n",
              "      <th>timestamp</th>\n",
              "      <th>title</th>\n",
              "      <th>genres</th>\n",
              "    </tr>\n",
              "  </thead>\n",
              "  <tbody>\n",
              "    <tr>\n",
              "      <th>0</th>\n",
              "      <td>39</td>\n",
              "      <td>1196</td>\n",
              "      <td>5.0</td>\n",
              "      <td>974789111</td>\n",
              "      <td>Star Wars: Episode V - The Empire Strikes Back...</td>\n",
              "      <td>[Action, Adventure, Sci-Fi]</td>\n",
              "    </tr>\n",
              "    <tr>\n",
              "      <th>4076</th>\n",
              "      <td>39</td>\n",
              "      <td>1214</td>\n",
              "      <td>5.0</td>\n",
              "      <td>974787510</td>\n",
              "      <td>Alien (1979)</td>\n",
              "      <td>[Horror, Sci-Fi]</td>\n",
              "    </tr>\n",
              "    <tr>\n",
              "      <th>4284</th>\n",
              "      <td>39</td>\n",
              "      <td>1210</td>\n",
              "      <td>5.0</td>\n",
              "      <td>974787586</td>\n",
              "      <td>Star Wars: Episode VI - Return of the Jedi (1983)</td>\n",
              "      <td>[Action, Adventure, Sci-Fi]</td>\n",
              "    </tr>\n",
              "    <tr>\n",
              "      <th>2755</th>\n",
              "      <td>39</td>\n",
              "      <td>2858</td>\n",
              "      <td>5.0</td>\n",
              "      <td>974788291</td>\n",
              "      <td>American Beauty (1999)</td>\n",
              "      <td>[Drama, Romance]</td>\n",
              "    </tr>\n",
              "    <tr>\n",
              "      <th>3657</th>\n",
              "      <td>39</td>\n",
              "      <td>260</td>\n",
              "      <td>5.0</td>\n",
              "      <td>974787510</td>\n",
              "      <td>Star Wars: Episode IV - A New Hope (1977)</td>\n",
              "      <td>[Action, Adventure, Sci-Fi]</td>\n",
              "    </tr>\n",
              "  </tbody>\n",
              "</table>\n",
              "</div>"
            ],
            "text/plain": [
              "      userId  ...                       genres\n",
              "0         39  ...  [Action, Adventure, Sci-Fi]\n",
              "4076      39  ...             [Horror, Sci-Fi]\n",
              "4284      39  ...  [Action, Adventure, Sci-Fi]\n",
              "2755      39  ...             [Drama, Romance]\n",
              "3657      39  ...  [Action, Adventure, Sci-Fi]\n",
              "\n",
              "[5 rows x 6 columns]"
            ]
          },
          "metadata": {
            "tags": []
          },
          "execution_count": 335
        }
      ]
    },
    {
      "cell_type": "code",
      "metadata": {
        "id": "F8lXc4AbYhNe",
        "outputId": "e31a3f28-a301-450f-f9f2-df48784aeef7",
        "colab": {
          "base_uri": "https://localhost:8080/",
          "height": 204
        }
      },
      "source": [
        "bottom_5 = user_ratings[user_ratings['rating']<3].tail()\n",
        "bottom_5"
      ],
      "execution_count": null,
      "outputs": [
        {
          "output_type": "execute_result",
          "data": {
            "text/html": [
              "<div>\n",
              "<style scoped>\n",
              "    .dataframe tbody tr th:only-of-type {\n",
              "        vertical-align: middle;\n",
              "    }\n",
              "\n",
              "    .dataframe tbody tr th {\n",
              "        vertical-align: top;\n",
              "    }\n",
              "\n",
              "    .dataframe thead th {\n",
              "        text-align: right;\n",
              "    }\n",
              "</style>\n",
              "<table border=\"1\" class=\"dataframe\">\n",
              "  <thead>\n",
              "    <tr style=\"text-align: right;\">\n",
              "      <th></th>\n",
              "      <th>userId</th>\n",
              "      <th>movieId</th>\n",
              "      <th>rating</th>\n",
              "      <th>timestamp</th>\n",
              "      <th>title</th>\n",
              "      <th>genres</th>\n",
              "    </tr>\n",
              "  </thead>\n",
              "  <tbody>\n",
              "    <tr>\n",
              "      <th>667</th>\n",
              "      <td>39</td>\n",
              "      <td>1954</td>\n",
              "      <td>2.0</td>\n",
              "      <td>974789327</td>\n",
              "      <td>Rocky (1976)</td>\n",
              "      <td>[Drama]</td>\n",
              "    </tr>\n",
              "    <tr>\n",
              "      <th>6425</th>\n",
              "      <td>39</td>\n",
              "      <td>924</td>\n",
              "      <td>2.0</td>\n",
              "      <td>974787586</td>\n",
              "      <td>2001: A Space Odyssey (1968)</td>\n",
              "      <td>[Adventure, Drama, Sci-Fi]</td>\n",
              "    </tr>\n",
              "    <tr>\n",
              "      <th>7632</th>\n",
              "      <td>39</td>\n",
              "      <td>3418</td>\n",
              "      <td>2.0</td>\n",
              "      <td>974789327</td>\n",
              "      <td>Thelma &amp; Louise (1991)</td>\n",
              "      <td>[Adventure, Crime, Drama]</td>\n",
              "    </tr>\n",
              "    <tr>\n",
              "      <th>3392</th>\n",
              "      <td>39</td>\n",
              "      <td>2137</td>\n",
              "      <td>1.0</td>\n",
              "      <td>974788976</td>\n",
              "      <td>Charlotte's Web (1973)</td>\n",
              "      <td>[Animation, Children]</td>\n",
              "    </tr>\n",
              "    <tr>\n",
              "      <th>1674</th>\n",
              "      <td>39</td>\n",
              "      <td>1282</td>\n",
              "      <td>1.0</td>\n",
              "      <td>974788629</td>\n",
              "      <td>Fantasia (1940)</td>\n",
              "      <td>[Animation, Children, Fantasy, Musical]</td>\n",
              "    </tr>\n",
              "  </tbody>\n",
              "</table>\n",
              "</div>"
            ],
            "text/plain": [
              "      userId  ...                                   genres\n",
              "667       39  ...                                  [Drama]\n",
              "6425      39  ...               [Adventure, Drama, Sci-Fi]\n",
              "7632      39  ...                [Adventure, Crime, Drama]\n",
              "3392      39  ...                    [Animation, Children]\n",
              "1674      39  ...  [Animation, Children, Fantasy, Musical]\n",
              "\n",
              "[5 rows x 6 columns]"
            ]
          },
          "metadata": {
            "tags": []
          },
          "execution_count": 337
        }
      ]
    },
    {
      "cell_type": "markdown",
      "metadata": {
        "id": "mNgwoRzVGt2e"
      },
      "source": [
        "Using Apache Spark to evalute the ALS model"
      ]
    },
    {
      "cell_type": "code",
      "metadata": {
        "id": "WQjXxpgzxGzv"
      },
      "source": [
        "#Loading all the relevant libraries for ALS \n",
        "\n",
        "from pyspark.ml.evaluation import RegressionEvaluator\n",
        "from pyspark.ml.recommendation import ALS\n",
        "from pyspark.ml.tuning import TrainValidationSplit, ParamGridBuilder\n",
        "from pyspark.ml.tuning import CrossValidator\n",
        "from pyspark.sql import SparkSession\n"
      ],
      "execution_count": null,
      "outputs": []
    },
    {
      "cell_type": "code",
      "metadata": {
        "id": "GH9_Js5KPbDa"
      },
      "source": [
        "from pyspark.ml.feature import StringIndexer\n",
        "from pyspark.ml import Pipeline\n",
        "from pyspark.sql.functions import col\n",
        "spark = SparkSession.builder.appName('Recommendation_system')"
      ],
      "execution_count": null,
      "outputs": []
    },
    {
      "cell_type": "code",
      "metadata": {
        "id": "yE_yRjmgPjo3",
        "outputId": "3043f0b9-e652-49fd-8777-b4646a396688",
        "colab": {
          "base_uri": "https://localhost:8080/",
          "height": 204
        }
      },
      "source": [
        "final_rating_content_based.head()\n",
        "\n",
        "final_rating = final_rating_content_based.drop(labels=[\"timestamp\"], axis=1)\n",
        "\n",
        "final_rating.head()"
      ],
      "execution_count": null,
      "outputs": [
        {
          "output_type": "execute_result",
          "data": {
            "text/html": [
              "<div>\n",
              "<style scoped>\n",
              "    .dataframe tbody tr th:only-of-type {\n",
              "        vertical-align: middle;\n",
              "    }\n",
              "\n",
              "    .dataframe tbody tr th {\n",
              "        vertical-align: top;\n",
              "    }\n",
              "\n",
              "    .dataframe thead th {\n",
              "        text-align: right;\n",
              "    }\n",
              "</style>\n",
              "<table border=\"1\" class=\"dataframe\">\n",
              "  <thead>\n",
              "    <tr style=\"text-align: right;\">\n",
              "      <th></th>\n",
              "      <th>userId</th>\n",
              "      <th>movieId</th>\n",
              "      <th>rating</th>\n",
              "    </tr>\n",
              "  </thead>\n",
              "  <tbody>\n",
              "    <tr>\n",
              "      <th>0</th>\n",
              "      <td>1</td>\n",
              "      <td>1196</td>\n",
              "      <td>5.0</td>\n",
              "    </tr>\n",
              "    <tr>\n",
              "      <th>1</th>\n",
              "      <td>4</td>\n",
              "      <td>1196</td>\n",
              "      <td>5.0</td>\n",
              "    </tr>\n",
              "    <tr>\n",
              "      <th>2</th>\n",
              "      <td>7</td>\n",
              "      <td>1196</td>\n",
              "      <td>4.0</td>\n",
              "    </tr>\n",
              "    <tr>\n",
              "      <th>3</th>\n",
              "      <td>15</td>\n",
              "      <td>1196</td>\n",
              "      <td>5.0</td>\n",
              "    </tr>\n",
              "    <tr>\n",
              "      <th>4</th>\n",
              "      <td>16</td>\n",
              "      <td>1196</td>\n",
              "      <td>3.0</td>\n",
              "    </tr>\n",
              "  </tbody>\n",
              "</table>\n",
              "</div>"
            ],
            "text/plain": [
              "   userId  movieId  rating\n",
              "0       1     1196     5.0\n",
              "1       4     1196     5.0\n",
              "2       7     1196     4.0\n",
              "3      15     1196     5.0\n",
              "4      16     1196     3.0"
            ]
          },
          "metadata": {
            "tags": []
          },
          "execution_count": 258
        }
      ]
    },
    {
      "cell_type": "code",
      "metadata": {
        "id": "Dd8MDpsdSvmw"
      },
      "source": [
        "!pip install pandas==1.1.2"
      ],
      "execution_count": null,
      "outputs": []
    },
    {
      "cell_type": "code",
      "metadata": {
        "id": "wNWAgZPsVtpe"
      },
      "source": [
        "weights = [0.8,0.2]"
      ],
      "execution_count": null,
      "outputs": []
    },
    {
      "cell_type": "code",
      "metadata": {
        "id": "Pwbdqqu12Pn_"
      },
      "source": [
        "als_model_pyspark = ALS(userCol=\"userId\", itemCol=\"movieId\", ratingCol=\"rating\", coldStartStrategy=\"drop\", nonnegative=True)"
      ],
      "execution_count": null,
      "outputs": []
    },
    {
      "cell_type": "code",
      "metadata": {
        "id": "Mv660sC-2PyC"
      },
      "source": [
        "param_grid_als = ParamGridBuilder()\\\n",
        "                 .addGrid(als_model_pyspark.rank, [12, 13, 14])\\\n",
        "                 .addGrid(als_model_pyspark.maxIter, [18, 19, 20])\\\n",
        "                 .addGrid(als_model_pyspark.regParam, [.17, .18, .19])\\\n",
        "                 .build()\n",
        "\n",
        "evaluator = RegressionEvaluator(metricName=\"rsme\", labelCol=\"rating\", predictionCol=\"prediction\")\n",
        "\n",
        "cv_for_als = CrossValidator(estimator=als_model_pyspark, estimatorParamMaps=param_grid_als, evaluator=evaluator, numFolds=3, seed=3421)\n"
      ],
      "execution_count": null,
      "outputs": []
    },
    {
      "cell_type": "code",
      "metadata": {
        "id": "K7jV-g8Q2Pv1"
      },
      "source": [
        "model_als_fit = cv_for_als.fit(final_rating)"
      ],
      "execution_count": null,
      "outputs": []
    }
  ]
}